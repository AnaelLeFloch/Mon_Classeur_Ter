{
 "cells": [
  {
   "cell_type": "code",
   "execution_count": 4,
   "metadata": {},
   "outputs": [],
   "source": [
    "import random\n",
    "\n",
    "class CompteBanc:\n",
    "    def __init__ (self):\n",
    "        self.money = 0 #Initialisation de l'argent\n",
    "        self.name = input(\"entrer votre nom\") # nom du compte\n",
    "        self.mdp = input(\"entrer votre mot de passe\") # mot de passe du compte\n",
    "        self.connexion = False #attribut pour savoir si le compte est connecté\n",
    "        self.mdp_used = \"\" # pour connect_compte\n",
    "        self.choix =\"\" # pour connect_compte\n",
    "\n",
    "    def connect_compte (self) : #pour se connecter au compte\n",
    "        self.mdp_used = input(\"entrez votre mot de passe\")\n",
    "        if self.mdp_used == self.mdp :\n",
    "            self.connexion = True\n",
    "            print(\"Bienvenue sur votre compte\")\n",
    "        else :\n",
    "             print(\"Mot de passe incorrect\")\n",
    "             print(\"Voulez vous réessayez ?\")\n",
    "             self.choix = input(\"oui ou non\")\n",
    "             if self.choix == \"oui\" : # Si oui\n",
    "                 self.connect_compte\n",
    "             else :\n",
    "                 pass\n",
    "    \n",
    "    def _set_money (self ) :\n",
    "        self.money += random.randint(-113,113)\n",
    "\n",
    "        if self.money == 0 :\n",
    "            print(\"Vous êtes à découvert\")\n",
    "\n",
    "    def donneMonnaie (self):\n",
    "        return self.monnaie"
   ]
  }
 ],
 "metadata": {
  "kernelspec": {
   "display_name": "Python 3",
   "language": "python",
   "name": "python3"
  },
  "language_info": {
   "codemirror_mode": {
    "name": "ipython",
    "version": 3
   },
   "file_extension": ".py",
   "mimetype": "text/x-python",
   "name": "python",
   "nbconvert_exporter": "python",
   "pygments_lexer": "ipython3",
   "version": "3.12.1"
  }
 },
 "nbformat": 4,
 "nbformat_minor": 2
}
