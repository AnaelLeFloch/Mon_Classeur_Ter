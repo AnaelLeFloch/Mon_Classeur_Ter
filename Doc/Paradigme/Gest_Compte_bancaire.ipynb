{
 "cells": [
  {
   "cell_type": "code",
   "execution_count": null,
   "metadata": {},
   "outputs": [],
   "source": [
    "import random\n",
    "\n",
    "class CompteBanc:\n",
    "    def __init__ (self):\n",
    "        self.monnaie = 0 #Initialisation de l'argent\n",
    "        self.name = input(\"entrer votre nom\") # nom du compte\n",
    "        self.mdp = input(\"entrer votre mot de passe\") # mot de passe du compte\n",
    "        self.connexion = False #attribut pour savoir si le compte est connecté\n",
    "        self.mdp_used = \"\" # pour connect_compte\n",
    "        self.choix =\"\" # pour connect_compte\n",
    "\n",
    "    def connect_compte (self) : #pour se connecter au compte\n",
    "        self.mdp_used = input(\"entrez votre mot de passe\")\n",
    "        if self.mdp_used == self.mdp :\n",
    "            self.connexion = True\n",
    "            print(\"Bienvenue sur votre compte\")\n",
    "        else :\n",
    "             print(\"Mot de passe incorrect\")\n",
    "             print(\"Voulez vous réessayez ?\")\n",
    "             self.choix = input(\"oui ou non\")\n",
    "             if self.choix == \"oui\" : # Si oui\n",
    "                 self.connect_compte\n",
    "             if self.choix == \"non\" : # Si non\n",
    "             \n",
    "            else :\n",
    "                print(\"entrez oui ou non\")\n",
    "                self.retry_connect\n",
    "\n",
    "    def retry_connect :\n",
    "        self.choix = input(\"oui ou non\")\n",
    "             if self.choix == \"oui\" : # Si oui\n",
    "                 self.connect_compte\n",
    "             if self.choix == \"non\" : # Si non\n",
    "             \n",
    "            else :\n",
    "                print(\"entrez oui ou non\")\n",
    "                self.retry_connect\n",
    "\n",
    "           \n",
    "    \n",
    "    def donneMonnaie (self):\n",
    "        return self.monnaie"
   ]
  }
 ],
 "metadata": {
  "language_info": {
   "name": "python"
  }
 },
 "nbformat": 4,
 "nbformat_minor": 2
}
