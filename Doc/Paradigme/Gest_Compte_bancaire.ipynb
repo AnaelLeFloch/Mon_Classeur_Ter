{
 "cells": [
  {
   "cell_type": "code",
   "execution_count": null,
   "metadata": {},
   "outputs": [],
   "source": [
    "class CompteBanc:\n",
    "    def __init__ (self):\n",
    "        self.monnaie = 0\n",
    "        self.name = input(\"entrer votre nom\")\n",
    "    \n",
    "    def donneMonnaie (self):\n",
    "        return self.monnaie"
   ]
  }
 ],
 "metadata": {
  "language_info": {
   "name": "python"
  }
 },
 "nbformat": 4,
 "nbformat_minor": 2
}
