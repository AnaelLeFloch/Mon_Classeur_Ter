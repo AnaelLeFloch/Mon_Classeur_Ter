{
 "cells": [
  {
   "cell_type": "markdown",
   "id": "56def276",
   "metadata": {},
   "source": [
    "# Algorithmes de tri\n",
    "\n",
    "## Tri Par Sélection\n",
    "\n",
    "Le tri par selection consiste à  identifier la plus petite valeur de la liste puis on la place en première place puis ainsi de suite\n",
    "\n"
   ]
  },
  {
   "cell_type": "markdown",
   "id": "ea8818ff",
   "metadata": {},
   "source": [
    "## Tri par insertion \n",
    "\n",
    "Le tri par insertion consiste à prendre le premier élement d´une liste qu´on insère dans une nouvelle liste puis pour chaque élement de la première liste on compare avec les éléments de la deuxième liste pour les placer correctement."
   ]
  },
  {
   "cell_type": "markdown",
   "id": "e2e43566",
   "metadata": {},
   "source": [
    "## Tri fusion\n",
    "\n",
    "\"diviser pour régner et combiner\".On divise récursivement en deux moitiés une liste jusqu'a obtenir des tableaux de taille 1 ou 0. puis en se divisant les tableaux se trie tout seul. Enfin on recombine tous les tableaux triés pour donner qu'un seul tableau trié."
   ]
  },
  {
   "cell_type": "markdown",
   "id": "4d295f0f",
   "metadata": {},
   "source": []
  }
 ],
 "metadata": {
  "language_info": {
   "name": "python"
  }
 },
 "nbformat": 4,
 "nbformat_minor": 5
}
