{
 "cells": [
  {
   "cell_type": "markdown",
   "id": "56def276",
   "metadata": {},
   "source": [
    "# Algorithmes de tri\n",
    "\n",
    "## Tri Par Sélection\n",
    "\n",
    "Le tri par selection consiste à  identifier la plus petite valeur de la liste puis on la place en première place puis ainsi de suite\n",
    "\n",
    "cout quadratique\n",
    "\n"
   ]
  },
  {
   "cell_type": "code",
   "execution_count": null,
   "id": "d019788f",
   "metadata": {},
   "outputs": [],
   "source": [
    "# Cas simple\n",
    "\n",
    "def tri_selection(tableau):\n",
    "    for i in range(len(tableau) - 1):\n",
    "        min = i # Indice \n",
    "        for j in range(i + 1, len(tableau)): \n",
    "            if tableau[j] < tableau[min]:\n",
    "                min = j\n",
    "        valeur_tampon = tableau[i] #On échange les valeurs\n",
    "        tableau[i] = tableau[min]\n",
    "        tableau[min] = valeur_tampon\n",
    "    return tableau"
   ]
  },
  {
   "cell_type": "markdown",
   "id": "ea8818ff",
   "metadata": {},
   "source": [
    "## Tri par insertion \n",
    "\n",
    "Le tri par insertion consiste à prendre le premier élement d´une liste qu´on insère dans une nouvelle liste puis pour chaque élement de la première liste on compare avec les éléments de la deuxième liste pour les placer correctement.\n",
    "\n",
    "cout quadratique"
   ]
  },
  {
   "cell_type": "code",
   "execution_count": null,
   "id": "579b29f5",
   "metadata": {},
   "outputs": [],
   "source": [
    "# Cas simple\n",
    "\n",
    "def tri_insertion(tableau):\n",
    "    for i in range(len(tableau)):\n",
    "        valeur_tampon = tableau[i] # Valeur à insérer\n",
    "        j = i\n",
    "        while j > 0 and tableau[j - 1] > valeur_tampon:\n",
    "            tableau[j] = tableau[j - 1]\n",
    "            j = j - 1\n",
    "        tableau[j] = valeur_tampon\n",
    "    return tableau"
   ]
  },
  {
   "cell_type": "markdown",
   "id": "e2e43566",
   "metadata": {},
   "source": [
    "## Tri fusion\n",
    "\n",
    "\"diviser pour régner et combiner\".On divise récursivement en deux moitiés une liste jusqu'a obtenir des tableaux de taille 1 ou 0. puis en se divisant les tableaux se trie tout seul. Enfin on recombine tous les tableaux triés pour donner qu'un seul tableau trié."
   ]
  },
  {
   "cell_type": "code",
   "execution_count": null,
   "id": "240f7dee",
   "metadata": {},
   "outputs": [],
   "source": [
    "# Cas simple\n",
    "\n",
    "def sous_tableau(tableau, debut, fin):\n",
    "    return [tableau[valeur] for valeur in range(debut, fin)]\n",
    "\n",
    "\n",
    "def fusion(gauche, droite):\n",
    "    taille_gauche = len(gauche)\n",
    "    taille_droite = len(droite)\n",
    "    nouveau = [None] * (taille_gauche + taille_droite)\n",
    "\n",
    "    i_nouveau = 0\n",
    "    i_gauche = 0\n",
    "    i_droite = 0\n",
    "\n",
    "    # Il reste des éléments à gauche ET à droite\n",
    "    while i_gauche < taille_gauche and i_droite < taille_droite:\n",
    "        if gauche[i_gauche] <= droite[i_droite]:\n",
    "            nouveau[i_nouveau] = gauche[i_gauche]\n",
    "            i_gauche += 1\n",
    "        else:\n",
    "            nouveau[i_nouveau] = droite[i_droite]\n",
    "            i_droite += 1\n",
    "        i_nouveau += 1\n",
    "\n",
    "    # Il ne reste des éléments QUE à gauche\n",
    "    while i_gauche < taille_gauche:\n",
    "        nouveau[i_nouveau] = gauche[i_gauche]\n",
    "        i_gauche += 1\n",
    "        i_nouveau += 1\n",
    "\n",
    "    # Il ne reste des éléments QUE à droite\n",
    "    while i_droite < taille_droite:\n",
    "        nouveau[i_nouveau] = droite[i_droite]\n",
    "        i_droite += 1\n",
    "        i_nouveau += 1\n",
    "\n",
    "    return nouveau\n",
    "\n",
    "\n",
    "def tri_fusion(tableau):\n",
    "    taille = len(tableau)\n",
    "    # Cas de base, tableau de longueur 1 ou moins\n",
    "    if taille < 2:\n",
    "        return tableau\n",
    "\n",
    "    milieu = taille // 2\n",
    "\n",
    "    # Tris récursifs des parties gauche et droite\n",
    "    gauche = tri_fusion(sous_tableau(tableau, 0, milieu))\n",
    "    droite = tri_fusion(sous_tableau(tableau, milieu, taille))\n",
    "\n",
    "    return fusion(gauche, droite)"
   ]
  }
 ],
 "metadata": {
  "language_info": {
   "name": "python"
  }
 },
 "nbformat": 4,
 "nbformat_minor": 5
}
