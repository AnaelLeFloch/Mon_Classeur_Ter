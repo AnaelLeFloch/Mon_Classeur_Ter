{
 "cells": [
  {
   "cell_type": "markdown",
   "id": "56def276",
   "metadata": {},
   "source": [
    "# Algorithmes de tri\n",
    "\n",
    "## Tri Par Sélection"
   ]
  },
  {
   "cell_type": "markdown",
   "id": "ea8818ff",
   "metadata": {},
   "source": [
    "## Tri par insertion "
   ]
  },
  {
   "cell_type": "markdown",
   "id": "e2e43566",
   "metadata": {},
   "source": [
    "## Tri fusion"
   ]
  },
  {
   "cell_type": "markdown",
   "id": "4d295f0f",
   "metadata": {},
   "source": []
  }
 ],
 "metadata": {
  "language_info": {
   "name": "python"
  }
 },
 "nbformat": 4,
 "nbformat_minor": 5
}
