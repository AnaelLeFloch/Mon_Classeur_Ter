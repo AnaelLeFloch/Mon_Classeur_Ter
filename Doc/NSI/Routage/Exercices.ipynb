{
 "cells": [
  {
   "cell_type": "markdown",
   "metadata": {},
   "source": [
    "# Exercices sur le routage\n",
    "\n",
    "## 1.\n",
    "\n",
    "| destinataire | passerelle | métrique |\n",
    "|:-:|:-:|:-:|\n",
    "|   |   |   |\n",
    "|   |   |   |\n",
    "|   |   |   |\n",
    "|   |   |   |"
   ]
  }
 ],
 "metadata": {
  "language_info": {
   "name": "python"
  }
 },
 "nbformat": 4,
 "nbformat_minor": 2
}
