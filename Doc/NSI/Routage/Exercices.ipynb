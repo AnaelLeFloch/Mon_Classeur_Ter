{
 "cells": [
  {
   "cell_type": "markdown",
   "metadata": {},
   "source": [
    "# Exercices sur le routage\n",
    "\n",
    "## 1.\n",
    "\n",
    "| destinataire | passerelle | métrique |\n",
    "|:-:|:-:|:-:|\n",
    "| A | I | 63|\n",
    "| B | F | 75|\n",
    "| C | I | 55|\n",
    "| D | I | 51|\n",
    "| E | E | 23|\n",
    "| F | F | 39|\n",
    "| H | H | 21|\n",
    "| I | I | 25|\n",
    "|   |   |   |\n",
    "\n",
    "## 2. \n",
    "\n",
    "a.oui\n",
    "\n",
    "b.non\n",
    "\n",
    "c.non\n",
    "\n",
    "d. [Réseau](/Doc/NSI/Routage/Reseau2ER.png)\n",
    "\n",
    "e.\n"
   ]
  }
 ],
 "metadata": {
  "language_info": {
   "name": "python"
  }
 },
 "nbformat": 4,
 "nbformat_minor": 2
}
