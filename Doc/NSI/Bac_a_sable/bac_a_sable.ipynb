{
 "cells": [
  {
   "cell_type": "markdown",
   "metadata": {},
   "source": [
    "# Pile"
   ]
  },
  {
   "cell_type": "code",
   "execution_count": 1,
   "metadata": {},
   "outputs": [],
   "source": [
    "def pile():\n",
    "    #retourne une liste vide\n",
    "    return []\n",
    "\n",
    "# vide\n",
    "def vide(p):\n",
    "    '''renvoie True si la pile est vide et False sinon'''\n",
    "    return p==[]\n",
    "\n",
    "# empiler\n",
    "def empiler(p,x):\n",
    "    '''Ajoute l’élément x à la pile p'''\n",
    "    p.append(x)\n",
    "\n",
    "# dépiler\n",
    "def depiler(p):\n",
    "    '''dépile et renvoie l’élément au sommet de la pile p'''\n",
    "    assert not vide(p), \"Pile vide\"\n",
    "    return p.pop()"
   ]
  },
  {
   "cell_type": "code",
   "execution_count": 2,
   "metadata": {},
   "outputs": [
    {
     "data": {
      "text/plain": [
       "[0, 2, 4, 6, 8]"
      ]
     },
     "execution_count": 2,
     "metadata": {},
     "output_type": "execute_result"
    }
   ],
   "source": [
    "p = pile()\n",
    "for i in range(5):\n",
    "    empiler(p,2*i)\n",
    "p"
   ]
  },
  {
   "cell_type": "code",
   "execution_count": null,
   "metadata": {},
   "outputs": [],
   "source": [
    "def sommet(p) :\n",
    "    assert not vide(p), \"Pile vide\" \n",
    "    sommet = depiler(p)\n",
    "    empiler(p,sommet)\n",
    "    return sommet"
   ]
  },
  {
   "cell_type": "code",
   "execution_count": 5,
   "metadata": {},
   "outputs": [
    {
     "data": {
      "text/plain": [
       "[8]"
      ]
     },
     "execution_count": 5,
     "metadata": {},
     "output_type": "execute_result"
    }
   ],
   "source": [
    "sommet(p)"
   ]
  }
 ],
 "metadata": {
  "kernelspec": {
   "display_name": "Python 3",
   "language": "python",
   "name": "python3"
  },
  "language_info": {
   "codemirror_mode": {
    "name": "ipython",
    "version": 3
   },
   "file_extension": ".py",
   "mimetype": "text/x-python",
   "name": "python",
   "nbconvert_exporter": "python",
   "pygments_lexer": "ipython3",
   "version": "3.12.1"
  }
 },
 "nbformat": 4,
 "nbformat_minor": 2
}
