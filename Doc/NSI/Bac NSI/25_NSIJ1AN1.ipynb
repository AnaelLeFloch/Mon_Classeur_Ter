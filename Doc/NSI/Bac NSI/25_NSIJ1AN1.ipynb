{
 "cells": [
  {
   "cell_type": "markdown",
   "id": "cc0c44a3",
   "metadata": {},
   "source": [
    "# 25_NSIJ2AN1\n",
    "\n",
    "## Exercice 3\n",
    "\n",
    "1-\n",
    "\n",
    "(INT)\n",
    "\n",
    "2- \n",
    "\n",
    "CHECK (annee + 18 != STRFTIME(\"%Y\", \"now\")) car elle permet de vérifier que les individus inscrits dans la table enfant ont bien moins de 18 ans.\n",
    "\n",
    "3-\n",
    "\n",
    "num_parent\n",
    "\n",
    "4-\n",
    "\n",
    "la clé primaire adapté à la table parent est tel car le numéro téléphone est unique pour chaque personne.Il peut servir comme un d'ID.\n",
    "\n",
    "5-\n",
    "\n",
    "la requête lève une erreur car le numéro de téléphone n'est pas modifié dans la table Enfant.\n",
    "\n",
    "6-\n",
    "\n",
    "```sql\n",
    "INSERT INTO parent VALUES ('Bauges', 33619782812, 73340);\n",
    "UPDATE enfant SET num_parent = 33619782812 WHERE num_parent =33600782812 ;\n",
    "DELETE FROM parent WHERE tel = 33600782812 ;\n",
    "```\n",
    "7-\n",
    "\n",
    "\"Nakamura\",\n",
    "\"Hawa\",\n",
    "\"Klan\",\n",
    "\"Adrien\",\n",
    "\n",
    "8-\n",
    "\n",
    "```sql\n",
    "SELECT prenom FROM enfant,\n",
    "WHERE num_parent = 3619861122,\n",
    "ORDER BY prenom ;\n",
    "```\n",
    "9- \n",
    "\n",
    "```sql\n",
    "SELECT id,prenom FROM enfant,\n",
    "WHERE enfant.num_parent = parent.tel AND  parent.codep = 38520 ;\n",
    "```\n",
    "\n",
    "10-\n",
    "\n",
    "Cettte situation nécessite qu'un graphe non orienté car les relations entre les enfants est bilatéral.\n",
    "\n",
    "11- "
   ]
  },
  {
   "cell_type": "code",
   "execution_count": null,
   "id": "2496402f",
   "metadata": {},
   "outputs": [],
   "source": [
    "#12-\n",
    "\n",
    "def degre(g,s) :\n",
    "    dg = 0\n",
    "    for i in range(len(g)) :\n",
    "        for j in range(len(g[i])) :\n",
    "            if g[i][j] == s :\n",
    "                dg += 1\n",
    "            else :\n",
    "                pass\n",
    "    return dg"
   ]
  },
  {
   "cell_type": "code",
   "execution_count": 1,
   "id": "1d0b9e3d",
   "metadata": {},
   "outputs": [],
   "source": [
    "#13-\n",
    "\n",
    "def sommets_tries(g):\n",
    "    sommets = [sommet for sommet in g]\n",
    "    n = len(sommets)\n",
    "    for i in range(1, n):\n",
    "        sommet_courant = sommets[i]\n",
    "        j = i - 1\n",
    "        while j >= 0 and sommets[j] > sommet_courant:\n",
    "            sommets[j + 1] = sommets[j]\n",
    "            j = j - 1\n",
    "        sommets[j + 1] = sommet_courant\n",
    "    return sommets"
   ]
  },
  {
   "cell_type": "markdown",
   "id": "9b99dd81",
   "metadata": {},
   "source": [
    "14-\n",
    "\n",
    "Le tri utilisée dans la question précédente est le tri par insertion. Dans le pire des cas, le coût est quadratique.\n",
    "\n",
    "15-"
   ]
  },
  {
   "cell_type": "code",
   "execution_count": null,
   "id": "cd7d4c3e",
   "metadata": {},
   "outputs": [],
   "source": [
    "#16-\n",
    "\n",
    "def colorer_graphe(g, dc) :\n",
    "    for s in dc :\n",
    "        couleur = plus_petite_couleur_hors_voisins(g, dc, s)\n",
    "        dc[s] = couleur"
   ]
  },
  {
   "cell_type": "code",
   "execution_count": null,
   "id": "4bb35ecd",
   "metadata": {},
   "outputs": [],
   "source": [
    "#17-\n",
    "\n",
    "def welsh_powell (g) :\n",
    "    dc = [-1 for s in g]\n",
    "    for s in sommets_tries(g) :\n",
    "        couleur = plus_petite_couleur_hors_voisins(g, dc, s)\n",
    "        dc[s] = couleur\n",
    "    return dc "
   ]
  },
  {
   "cell_type": "markdown",
   "id": "6ab09e45",
   "metadata": {},
   "source": []
  }
 ],
 "metadata": {
  "kernelspec": {
   "display_name": "Python 3",
   "language": "python",
   "name": "python3"
  },
  "language_info": {
   "codemirror_mode": {
    "name": "ipython",
    "version": 3
   },
   "file_extension": ".py",
   "mimetype": "text/x-python",
   "name": "python",
   "nbconvert_exporter": "python",
   "pygments_lexer": "ipython3",
   "version": "3.12.1"
  }
 },
 "nbformat": 4,
 "nbformat_minor": 5
}
