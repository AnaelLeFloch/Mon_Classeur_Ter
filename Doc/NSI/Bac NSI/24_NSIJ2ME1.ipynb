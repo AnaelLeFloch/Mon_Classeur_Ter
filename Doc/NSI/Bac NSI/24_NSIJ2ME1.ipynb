{
 "cells": [
  {
   "cell_type": "markdown",
   "id": "49db2533",
   "metadata": {},
   "source": [
    "# 24_NSIJ2ME1\n",
    "\n",
    "## Exercice 2\n",
    "\n",
    "### Partie A"
   ]
  },
  {
   "cell_type": "code",
   "execution_count": 8,
   "id": "1bd75c8f",
   "metadata": {},
   "outputs": [],
   "source": [
    "#1-\n",
    "\n",
    "class Marchandise:\n",
    "    def __init__(self, p: int, v: int):\n",
    "        self.p = p\n",
    "        self.v = v\n",
    "        assert self.v >= 0 , \"v doit être strictement positif\"\n"
   ]
  },
  {
   "cell_type": "code",
   "execution_count": 9,
   "id": "756b2325",
   "metadata": {},
   "outputs": [],
   "source": [
    "#2-\n",
    "\n",
    "m1 = Marchandise(20,7)"
   ]
  },
  {
   "cell_type": "code",
   "execution_count": 10,
   "id": "c63d3119",
   "metadata": {},
   "outputs": [],
   "source": [
    "#3-\n",
    "\n",
    "class Marchandise:\n",
    "    def __init__(self, p: int, v: int):\n",
    "        self.p = p\n",
    "        self.v = v\n",
    "        assert self.v >= 0 , \"v doit être strictement positif\"\n",
    "\n",
    "    def ratio(self) :\n",
    "        r = self.p / self.v\n",
    "        return r"
   ]
  },
  {
   "cell_type": "code",
   "execution_count": 11,
   "id": "13c8616a",
   "metadata": {},
   "outputs": [],
   "source": [
    "m1 = Marchandise(20,7)"
   ]
  },
  {
   "cell_type": "code",
   "execution_count": 12,
   "id": "6a92454b",
   "metadata": {},
   "outputs": [
    {
     "data": {
      "text/plain": [
       "2.857142857142857"
      ]
     },
     "execution_count": 12,
     "metadata": {},
     "output_type": "execute_result"
    }
   ],
   "source": [
    "m1.ratio()"
   ]
  },
  {
   "cell_type": "code",
   "execution_count": null,
   "id": "317f34f9",
   "metadata": {},
   "outputs": [],
   "source": [
    "#4-\n",
    "\n",
    "def prixListe(tab) :\n",
    "    prix_total = 0\n",
    "    for i in len(tab) :\n",
    "        m = tab[i]\n",
    "        prix_total += m.p\n",
    "    return prix_total"
   ]
  },
  {
   "cell_type": "markdown",
   "id": "b521160d",
   "metadata": {},
   "source": [
    "### Partie B\n",
    "\n",
    "5-\n",
    "\n",
    "m1 et m2, m1 et m3, m1 et m4, m3 et m4\n",
    "\n",
    "la meilleure conbinaison est m1 et m2\n",
    "\n",
    "6- tri\n",
    "\n",
    "7-"
   ]
  },
  {
   "cell_type": "code",
   "execution_count": null,
   "id": "6089e9c9",
   "metadata": {},
   "outputs": [],
   "source": [
    "def tri(tab: list) -> None:\n",
    " n = len(tab)\n",
    " for i in range(1, n):\n",
    "    marchandise = tab[i]\n",
    "    j = i-1\n",
    "    while j >= 0 and marchandise.ratio() > tab[j].ratio() :\n",
    "        tab[j+1] = tab[j]\n",
    "        j -= 1\n",
    "    tab[j+1] = marchandise"
   ]
  },
  {
   "cell_type": "markdown",
   "id": "dd965339",
   "metadata": {},
   "source": [
    "8- \n",
    "\n",
    "C'est un tri par insertion et dans le pire des cas, son coût temporel est quadratique."
   ]
  },
  {
   "cell_type": "code",
   "execution_count": null,
   "id": "26536a30",
   "metadata": {},
   "outputs": [],
   "source": [
    "# 9-\n",
    "\n",
    "def charge (tab, volume) :\n",
    "    tri(tab)\n",
    "    chargement = []\n",
    "    n = len(tab)\n",
    "    for i in range(n) :\n",
    "        if tab[i].volume <= volume :\n",
    "            chargement.append(tab[i])\n",
    "            volume = volume.tab[i].volume\n",
    "    return chargement"
   ]
  },
  {
   "cell_type": "code",
   "execution_count": 1,
   "id": "7af0475e",
   "metadata": {},
   "outputs": [],
   "source": [
    "# 10- \n",
    "\n",
    "def chargeOptimale (tab, v_resant, i) :\n",
    "    n = len(tab)\n",
    "    if i >= n :\n",
    "        return []\n",
    "    else :\n",
    "        if tab[i].volume > v_resant :\n",
    "            return chargeOptimale((tab, v_resant, i+1))\n",
    "        else :\n",
    "            option1 = chargeOptimale (tab, v_resant, i+1)\n",
    "            option2 = chargeOptimale (tab, v_resant-tab[i].volume, i+1)\n",
    "            if prixListe(option1) > prixListe(option2) :\n",
    "                return option1\n",
    "            else :\n",
    "                return option2"
   ]
  }
 ],
 "metadata": {
  "kernelspec": {
   "display_name": "Python 3",
   "language": "python",
   "name": "python3"
  },
  "language_info": {
   "codemirror_mode": {
    "name": "ipython",
    "version": 3
   },
   "file_extension": ".py",
   "mimetype": "text/x-python",
   "name": "python",
   "nbconvert_exporter": "python",
   "pygments_lexer": "ipython3",
   "version": "3.12.1"
  }
 },
 "nbformat": 4,
 "nbformat_minor": 5
}
