{
 "cells": [
  {
   "cell_type": "markdown",
   "id": "49db2533",
   "metadata": {},
   "source": [
    "# 24_NSIJ2ME1\n",
    "\n",
    "## Exercice 2"
   ]
  }
 ],
 "metadata": {
  "language_info": {
   "name": "python"
  }
 },
 "nbformat": 4,
 "nbformat_minor": 5
}
