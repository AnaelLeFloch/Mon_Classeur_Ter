{
 "cells": [
  {
   "cell_type": "markdown",
   "id": "b8cd12f3",
   "metadata": {},
   "source": [
    "# 24_NSIJ2AN1\n",
    "\n",
    "## Exercice 1"
   ]
  },
  {
   "cell_type": "markdown",
   "id": "39d2ab61",
   "metadata": {},
   "source": [
    "## Exercice 2"
   ]
  }
 ],
 "metadata": {
  "language_info": {
   "name": "python"
  }
 },
 "nbformat": 4,
 "nbformat_minor": 5
}
