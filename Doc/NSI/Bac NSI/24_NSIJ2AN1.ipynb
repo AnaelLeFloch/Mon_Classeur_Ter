{
 "cells": [
  {
   "cell_type": "markdown",
   "id": "b8cd12f3",
   "metadata": {},
   "source": [
    "# 24_NSIJ2AN1\n",
    "\n",
    "## Exercice 1"
   ]
  },
  {
   "cell_type": "code",
   "execution_count": null,
   "id": "4f7d3732",
   "metadata": {},
   "outputs": [],
   "source": [
    "# 1-\n",
    "\n",
    "def echange(tab, i, j) :\n",
    "    temp1 = tab[i]\n",
    "    temp2 = tab[j]\n",
    "    tab[i] = temp2\n",
    "    tab[j] = temp1\n",
    "    return tab\n",
    "\n",
    "# 2-\n",
    "\n",
    "def triStooge (tab, i, j):\n",
    "    if tab[i] > tab [j]:\n",
    "        echange(tab, i, j)\n",
    "    if (j - i) > 1:\n",
    "        k = (j- i + 1)//3\n",
    "        triStooge(tab, )\n",
    "        triStooge(tab, )\n",
    "        triStooge(tab, )"
   ]
  },
  {
   "cell_type": "markdown",
   "id": "39d2ab61",
   "metadata": {},
   "source": [
    "## Exercice 2\n",
    "\n",
    "1-\n",
    "Dufour, Marc;\n",
    "Martin, Sophie;\n",
    "\n",
    "2-\n",
    "\n",
    "```sql\n",
    "SELECT nom_medic FROM medicament,\n",
    "Where prix < 3.50 ;\n",
    "```\n",
    "\n",
    "3-\n",
    "\n",
    "```sql\n",
    "INSERT INTO client VALUES (3, \"Durand\", \"Nathalie\", 269054958815780)\n",
    "```\n",
    "4-\n",
    "\n",
    "id_client, id medic\n",
    "\n",
    "5- \n",
    "\n",
    "ligne 7 : 1\n",
    "\n",
    "ligne 8 : 3 \n",
    "\n",
    "6-\n",
    "\n",
    "```sql\n",
    "UPDATE medicament,\n",
    "SET quantite = 420,\n",
    "WHERE id_medic = 4 \n",
    "```\n",
    "\n",
    "7- \n",
    "\n",
    "3 x 5.50 = 16.5 \n",
    "\n",
    "8-\n",
    "\n",
    "```sql\n",
    "SELECT nom_medic FROM medicament,\n",
    "Where prix < 3.50 ;\n",
    "```"
   ]
  }
 ],
 "metadata": {
  "kernelspec": {
   "display_name": "Python 3",
   "language": "python",
   "name": "python3"
  },
  "language_info": {
   "name": "python",
   "version": "3.12.1"
  }
 },
 "nbformat": 4,
 "nbformat_minor": 5
}
