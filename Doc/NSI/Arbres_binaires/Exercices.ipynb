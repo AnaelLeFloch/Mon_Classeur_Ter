{
 "cells": [
  {
   "cell_type": "markdown",
   "metadata": {},
   "source": [
    "# Structure Arborescente\n",
    "\n",
    "## Exercice 1\n",
    "\n",
    "1. 1 → 2 → 3 → 4 → 5 → 6 → 7 → 8 → 9\n",
    "\n",
    "2. 1 → 2 → 4 → 5 → 7 → 8 → 3 → 6 → 9\n",
    "\n",
    "3. 4 → 2 → 1 → 7 → 5 → 8 → 9 → 6 → 3\n",
    "\n",
    "4. 4 → 7 → 8 → 5 → 2 → 9 → 6 → 3 → 1\n",
    "\n",
    "# Exercice 2\n",
    "\n",
    "1. 9 → 8 → 7 → 6 → 2 → 5 → 1 → 4 → 3\n",
    "\n",
    "2. 9 → 8 → 6 → 2 → 1 → 7 → 5 → 4 → 3\n",
    "\n",
    "3. 6 → 8 → 1 → 2 → 9 → 7 → 5 → 4 → 3\n",
    "\n",
    "4. 6 → 1 → 2 → 8 → 4 → 3 → 5 → 7 → 9\n",
    "\n",
    "# Autres Exercices\n",
    "\n",
    "## Exercice 1\n",
    "\n",
    "### 1.\n",
    "\n",
    "a. 4\n",
    "\n",
    "b. 19\n",
    "\n",
    "c. 4 et 9\n",
    "\n",
    "d. toutes valeurs supérieures ou égal 15 mais inférieur à 18\n",
    "\n",
    "### 2.\n",
    "\n",
    "a. 12 → 13 → 15 → 16 → 18 → 23 → 19 → 21 → 32 \n",
    "\n",
    "b. 12 → 13 → 16 → 15 → 21 → 19 → 32 → 23 → 18 \n",
    "\n",
    "### 3.\n",
    "\n",
    "a. \n",
    "\n",
    "\n",
    "## Exercice 2"
   ]
  }
 ],
 "metadata": {
  "language_info": {
   "name": "python"
  }
 },
 "nbformat": 4,
 "nbformat_minor": 2
}
