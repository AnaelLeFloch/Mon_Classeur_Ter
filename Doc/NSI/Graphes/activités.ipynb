{
 "cells": [
  {
   "cell_type": "markdown",
   "metadata": {},
   "source": [
    "# Activités Parcours Graphes\n",
    "\n",
    "## activité 10.1\n",
    "\n",
    "A → D → C → B → E\n",
    "\n",
    "## activité 10.2\n",
    "\n",
    "A → B → E → C → D\n",
    "\n",
    "## activité 10.3\n",
    "\n",
    "C → A → B → F \n",
    "\n",
    "False\n",
    "\n",
    "## activité 10.4\n",
    "\n",
    "C → A → B → F → D → C\n",
    "\n",
    "True\n",
    "\n",
    "## activité 10.5\n",
    "\n",
    "Noeud de départ : A\n",
    "\n",
    "Noeud d'arrivé : E\n",
    "\n",
    "A → D → C → E\n",
    "\n",
    "## activité 10.6\n",
    "\n",
    "1-\n"
   ]
  },
  {
   "cell_type": "code",
   "execution_count": 1,
   "metadata": {},
   "outputs": [],
   "source": [
    "class graphes :\n",
    "    def __init__ (self):\n",
    "        self.graphe = dict()\n",
    "\n",
    "    def ajoute_sommet(self,s) :\n",
    "        self.graphe[s] = list()\n",
    "\n",
    "    def ajoute_arete(self,s,t):\n",
    "        if s not in self.graphe :\n",
    "            self.ajoute_sommet(s)\n",
    "        if t not in self.graphe :\n",
    "            self.ajoute_sommet(t)\n",
    "\n",
    "        self.graphe[s].append(t)\n",
    "        self.graphe[t].append(s)\n",
    "\n",
    "    def arete(self,s,t):\n",
    "        for element in self.graphe[s] :\n",
    "            if element == t :\n",
    "                return True\n",
    "        return False\n",
    "    \n",
    "    def sommets(self):\n",
    "        '''Renvoie la liste de tous les sommets du graphe'''\n",
    "        sommet = list()\n",
    "        for element in self.graphe :\n",
    "            sommet.append(element)\n",
    "        return sommet"
   ]
  }
 ],
 "metadata": {
  "kernelspec": {
   "display_name": "Python 3",
   "language": "python",
   "name": "python3"
  },
  "language_info": {
   "codemirror_mode": {
    "name": "ipython",
    "version": 3
   },
   "file_extension": ".py",
   "mimetype": "text/x-python",
   "name": "python",
   "nbconvert_exporter": "python",
   "pygments_lexer": "ipython3",
   "version": "3.12.1"
  }
 },
 "nbformat": 4,
 "nbformat_minor": 2
}
