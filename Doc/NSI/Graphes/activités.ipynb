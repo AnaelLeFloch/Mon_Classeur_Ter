{
 "cells": [
  {
   "cell_type": "markdown",
   "metadata": {},
   "source": [
    "# Activités Parcours Graphes\n",
    "\n",
    "## activité 10.1\n",
    "\n",
    "A → D → C → B → E\n",
    "\n",
    "## activité 10.2\n",
    "\n",
    "A → B → E → C → D\n",
    "\n",
    "## activité 10.3\n",
    "\n",
    "C → A → B → F \n",
    "\n",
    "False\n",
    "\n",
    "## activité 10.4\n",
    "\n",
    "C → A → B → F → D → C\n",
    "\n",
    "True\n",
    "\n",
    "## activité 10.5\n",
    "\n",
    "Noeud de départ : A\n",
    "\n",
    "Noeud d'arrivé : E\n",
    "\n",
    "A → D → C → E\n",
    "\n",
    "## activité 10.6\n"
   ]
  }
 ],
 "metadata": {
  "language_info": {
   "name": "python"
  }
 },
 "nbformat": 4,
 "nbformat_minor": 2
}
