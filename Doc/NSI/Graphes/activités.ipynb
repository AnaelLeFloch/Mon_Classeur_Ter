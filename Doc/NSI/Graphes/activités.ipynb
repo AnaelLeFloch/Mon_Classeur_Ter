{
 "cells": [
  {
   "cell_type": "markdown",
   "metadata": {},
   "source": [
    "# Activités Parcours Graphes\n",
    "\n",
    "## activité 10.1\n",
    "\n",
    "A → D → C → B → E\n",
    "\n",
    "## activité 10.2\n",
    "\n",
    "A → B → E → C → D\n",
    "\n",
    "## activité 10.3\n",
    "\n",
    "C → A → B → F \n",
    "\n",
    "False\n",
    "\n",
    "## activité 10.4\n",
    "\n",
    "C → A → B → F → D → C\n",
    "\n",
    "True\n",
    "\n",
    "## activité 10.5\n",
    "\n",
    "Noeud de départ : A\n",
    "\n",
    "Noeud d'arrivé : E\n",
    "\n",
    "A → D → C → E\n",
    "\n",
    "## activité 10.6\n",
    "\n",
    "1-\n"
   ]
  },
  {
   "cell_type": "code",
   "execution_count": null,
   "metadata": {},
   "outputs": [
    {
     "ename": "SyntaxError",
     "evalue": "incomplete input (3113004902.py, line 1)",
     "output_type": "error",
     "traceback": [
      "\u001b[0;36m  Cell \u001b[0;32mIn[3], line 1\u001b[0;36m\u001b[0m\n\u001b[0;31m    class graphes :\u001b[0m\n\u001b[0m                   ^\u001b[0m\n\u001b[0;31mSyntaxError\u001b[0m\u001b[0;31m:\u001b[0m incomplete input\n"
     ]
    }
   ],
   "source": [
    "class noeud :\n",
    "    def __init__ (self, voisins):\n",
    "        self.voisins = voisins\n",
    "\n",
    "class graphes :\n",
    "    def __init__ (self):\n",
    "        self.graphe =  \"ah\""
   ]
  }
 ],
 "metadata": {
  "kernelspec": {
   "display_name": "Python 3",
   "language": "python",
   "name": "python3"
  },
  "language_info": {
   "codemirror_mode": {
    "name": "ipython",
    "version": 3
   },
   "file_extension": ".py",
   "mimetype": "text/x-python",
   "name": "python",
   "nbconvert_exporter": "python",
   "pygments_lexer": "ipython3",
   "version": "3.12.1"
  }
 },
 "nbformat": 4,
 "nbformat_minor": 2
}
