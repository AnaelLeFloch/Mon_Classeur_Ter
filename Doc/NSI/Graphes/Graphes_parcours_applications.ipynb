{
 "cells": [
  {
   "cell_type": "markdown",
   "metadata": {},
   "source": [
    "<h1><center><span style=\"color:#369;background:#fdf;padding: 10px 30px 10px 30px;border: 3px solid #369;border-radius:7px;\">TP parcours des graphes et applications</span></center></h1>"
   ]
  },
  {
   "cell_type": "markdown",
   "metadata": {},
   "source": [
    "## Objectif\n",
    "Nous allons utiliser la classe Graphe du dernier TP (celle avec le dictionnaire d'adjacence) puis implémenter les parcours en profondeur et en largeur et voir quelques applications de ces parcours."
   ]
  },
  {
   "cell_type": "markdown",
   "metadata": {},
   "source": [
    "## Parcours d'un graphe à la main\n",
    "On considère le graphe <code>G</code> suivant\n",
    "![graphes_parcours_0.png](https://ericecmorlaix.github.io/img/graphes_parcours_0.png)"
   ]
  },
  {
   "cell_type": "markdown",
   "metadata": {},
   "source": [
    "<div style=\"padding:10px ;border:solid 4px lightblue; border-radius: 10px; background-color:aliceblue;\">\n",
    "\n",
    "### Question 1\n",
    "    \n",
    "On choisit de partir de A.\n",
    "    \n",
    "Réaliser à la main un parcours en largeur du graphe (on insérera dans la file les sommets par ordre alphabétique), en indiquant les états successifs de la file. Donner à la fin la liste des sommets parcourus."
   ]
  },
  {
   "cell_type": "raw",
   "metadata": {
    "vscode": {
     "languageId": "raw"
    }
   },
   "source": [
    "Réponse : (on pourra noter les sommets sans mettre de guillemets ou d'apostrophe : A à la place de 'A')\n",
    "\n",
    "['A']\n",
    "['A','B']\n",
    "['A','B','C']\n",
    "['A','B','C','D']\n",
    "['A','B','C','D','E']\n",
    "['A','B','C','D','E','F']\n",
    "['A','B','C','D','E','F','G']\n",
    "['A','B','C','D','E','F','G','H']\n",
    "['A','B','C','D','E','F','G','H','I']"
   ]
  },
  {
   "cell_type": "markdown",
   "metadata": {},
   "source": [
    "<div style=\"padding:10px ;border:solid 4px lightblue; border-radius: 10px; background-color:aliceblue;\">\n",
    "\n",
    "### Question 2\n",
    "    \n",
    "Même question en partant de H."
   ]
  },
  {
   "cell_type": "raw",
   "metadata": {
    "vscode": {
     "languageId": "raw"
    }
   },
   "source": [
    "Réponse :\n",
    "\n",
    "['H']\n",
    "['H','I']\n",
    "['H','I','G']\n",
    "['H','I','G','F']\n",
    "['H','I','G','F','E']\n",
    "['H','I','G','F','E','D']\n",
    "['H','I','G','F','E','D','C']\n",
    "['H','I','G','F','E','D','C','B']\n",
    "['H','I','G','F','E','D','C','B','A']"
   ]
  },
  {
   "cell_type": "markdown",
   "metadata": {},
   "source": [
    "<div style=\"padding:10px ;border:solid 4px lightblue; border-radius: 10px; background-color:aliceblue;\">\n",
    "\n",
    "### Question 3\n",
    "    \n",
    "Même question pour le parcours en profondeur (donc avec une pile) en partant de A."
   ]
  },
  {
   "cell_type": "raw",
   "metadata": {
    "vscode": {
     "languageId": "raw"
    }
   },
   "source": [
    "Réponse :\n",
    "\n",
    "['A']\n",
    "['A','B']\n",
    "['A','B','F']\n",
    "['A','B','F','G']\n",
    "['A','B','F','G','I']\n",
    "['A','B','F','G','I','H']\n",
    "['A','B','F','G','I','H','D']\n",
    "['A','B','F','G','I','H','D','E']\n",
    "['A','B','F','G','I','H','D','E','C']"
   ]
  },
  {
   "cell_type": "markdown",
   "metadata": {},
   "source": [
    "<div style=\"padding:10px ;border:solid 4px lightblue; border-radius: 10px; background-color:aliceblue;\">\n",
    "\n",
    "### Question 4\n",
    "    \n",
    "Même question en partant de H."
   ]
  },
  {
   "cell_type": "raw",
   "metadata": {
    "vscode": {
     "languageId": "raw"
    }
   },
   "source": [
    "Réponse :\n",
    "\n",
    "['H']\n",
    "['H','D']\n",
    "['H','D','A']\n",
    "['H','D','A','B']\n",
    "['H','D','A','B','C']\n",
    "['H','D','A','B','C','E']\n",
    "['H','D','A','B','C','E','I']\n",
    "['H','D','A','B','C','E','I','F']\n",
    "['H','D','A','B','C','E','I','F','G']"
   ]
  },
  {
   "cell_type": "markdown",
   "metadata": {},
   "source": [
    "## Implémentation des parcours\n",
    "On donne ci-dessous les classes <code>File</code>, <code>Pile</code> et <code>Graphe</code> dont on utilisera les méthodes. La classe Graphe utilise le dictionnaire d'adjacence.\n",
    "\n",
    "Exécuter les deux cellules suivantes."
   ]
  },
  {
   "cell_type": "code",
   "execution_count": 2,
   "metadata": {},
   "outputs": [],
   "source": [
    "# Import de graphviz pour l'affichage des graphes.\n",
    "from graphviz import Graph"
   ]
  },
  {
   "cell_type": "code",
   "execution_count": 4,
   "metadata": {},
   "outputs": [],
   "source": [
    "class File:\n",
    "    '''Une implémentation basique à l'aide d'une liste python'''\n",
    "    def __init__(self):\n",
    "        self.liste=[]\n",
    "    def estVide(self):\n",
    "        return self.liste==[]\n",
    "    def enfile(self,e):\n",
    "        self.liste.append(e)\n",
    "    def defile(self):\n",
    "        return self.liste.pop(0)\n",
    "class Pile:\n",
    "    '''Une implémentation basique à l'aide d'une liste python'''\n",
    "    def __init__(self):\n",
    "        self.liste=[]\n",
    "    def estVide(self):\n",
    "        return self.liste==[]\n",
    "    def empile(self,e):\n",
    "        self.liste.append(e)\n",
    "    def depile(self):\n",
    "        return self.liste.pop()\n",
    "class Graphe:    \n",
    "    def __init__(self):\n",
    "        self.d = dict() # dictionnaire d'adjacence \n",
    "    def ajoute_sommet(self,s):\n",
    "        '''Ajoute le sommet s au graphe si celui-ci est un nouveau sommet''' \n",
    "        if s not in self.d :\n",
    "            self.d[s] = []\n",
    "    def ajoute_arete(self,s,t):\n",
    "        '''Ajoute si nécessaire les sommets s et t puis crée si elle n'existait pas une arête entre s et t'''\n",
    "        self.ajoute_sommet(s)\n",
    "        self.ajoute_sommet(t)\n",
    "        if t not in self.d[s]:\n",
    "            self.d[s].append(t)\n",
    "        if s not in self.d[t]:\n",
    "            self.d[t].append(s)\n",
    "    def arete(self,s,t):\n",
    "        '''Renvoie True s'il y a une arête entre s et t et False sinon'''\n",
    "        return (t in self.d[s])\n",
    "    def sommets(self):\n",
    "        '''Renvoie la liste de tous les sommets du graphe'''\n",
    "        return list(self.d.keys())\n",
    "    def voisins(self,s):\n",
    "        '''Renvoie la liste des voisins de s'''\n",
    "        return self.d[s]\n",
    "    def affiche(self): \n",
    "        \"Affichage du graphe en utilisant le module graphviz\"\n",
    "        dot = Graph('G')\n",
    "        for s in self.sommets():\n",
    "            for t in self.voisins(s): \n",
    "                # Condition pour éviter les doubles arêtes\n",
    "                if '{} -- {}'.format(t,s) not in dot.source:\n",
    "                    dot.edge(s,t)\n",
    "        return dot"
   ]
  },
  {
   "cell_type": "markdown",
   "metadata": {},
   "source": [
    "<div style=\"padding:10px ;border:solid 4px lightblue; border-radius: 10px; background-color:aliceblue;\">\n",
    "\n",
    "### Question 5\n",
    "    \n",
    "Compléter le code ci-dessous pour instancier et représenter le graphe G plus haut. La liste L est la liste des arêtes du graphe : s'en servir pour instancier le graphe."
   ]
  },
  {
   "cell_type": "code",
   "execution_count": 6,
   "metadata": {},
   "outputs": [
    {
     "data": {
      "image/svg+xml": [
       "<?xml version=\"1.0\" encoding=\"UTF-8\" standalone=\"no\"?>\n",
       "<!DOCTYPE svg PUBLIC \"-//W3C//DTD SVG 1.1//EN\"\n",
       " \"http://www.w3.org/Graphics/SVG/1.1/DTD/svg11.dtd\">\n",
       "<!-- Generated by graphviz version 12.2.1 (20241206.2353)\n",
       " -->\n",
       "<!-- Title: G Pages: 1 -->\n",
       "<svg width=\"218pt\" height=\"332pt\"\n",
       " viewBox=\"0.00 0.00 218.37 332.00\" xmlns=\"http://www.w3.org/2000/svg\" xmlns:xlink=\"http://www.w3.org/1999/xlink\">\n",
       "<g id=\"graph0\" class=\"graph\" transform=\"scale(1 1) rotate(0) translate(4 328)\">\n",
       "<title>G</title>\n",
       "<polygon fill=\"white\" stroke=\"none\" points=\"-4,4 -4,-328 214.37,-328 214.37,4 -4,4\"/>\n",
       "<!-- A -->\n",
       "<g id=\"node1\" class=\"node\">\n",
       "<title>A</title>\n",
       "<ellipse fill=\"none\" stroke=\"black\" cx=\"74.37\" cy=\"-306\" rx=\"27\" ry=\"18\"/>\n",
       "<text text-anchor=\"middle\" x=\"74.37\" y=\"-300.95\" font-family=\"Times New Roman,serif\" font-size=\"14.00\">A</text>\n",
       "</g>\n",
       "<!-- B -->\n",
       "<g id=\"node2\" class=\"node\">\n",
       "<title>B</title>\n",
       "<ellipse fill=\"none\" stroke=\"black\" cx=\"106.37\" cy=\"-234\" rx=\"27\" ry=\"18\"/>\n",
       "<text text-anchor=\"middle\" x=\"106.37\" y=\"-228.95\" font-family=\"Times New Roman,serif\" font-size=\"14.00\">B</text>\n",
       "</g>\n",
       "<!-- A&#45;&#45;B -->\n",
       "<g id=\"edge1\" class=\"edge\">\n",
       "<title>A&#45;&#45;B</title>\n",
       "<path fill=\"none\" stroke=\"black\" d=\"M81.96,-288.41C87.06,-277.25 93.75,-262.6 98.84,-251.47\"/>\n",
       "</g>\n",
       "<!-- C -->\n",
       "<g id=\"node3\" class=\"node\">\n",
       "<title>C</title>\n",
       "<ellipse fill=\"none\" stroke=\"black\" cx=\"39.37\" cy=\"-162\" rx=\"27\" ry=\"18\"/>\n",
       "<text text-anchor=\"middle\" x=\"39.37\" y=\"-156.95\" font-family=\"Times New Roman,serif\" font-size=\"14.00\">C</text>\n",
       "</g>\n",
       "<!-- A&#45;&#45;C -->\n",
       "<g id=\"edge2\" class=\"edge\">\n",
       "<title>A&#45;&#45;C</title>\n",
       "<path fill=\"none\" stroke=\"black\" d=\"M70.15,-287.87C63.42,-260.58 50.35,-207.52 43.61,-180.19\"/>\n",
       "</g>\n",
       "<!-- D -->\n",
       "<g id=\"node4\" class=\"node\">\n",
       "<title>D</title>\n",
       "<ellipse fill=\"none\" stroke=\"black\" cx=\"183.37\" cy=\"-162\" rx=\"27\" ry=\"18\"/>\n",
       "<text text-anchor=\"middle\" x=\"183.37\" y=\"-156.95\" font-family=\"Times New Roman,serif\" font-size=\"14.00\">D</text>\n",
       "</g>\n",
       "<!-- A&#45;&#45;D -->\n",
       "<g id=\"edge3\" class=\"edge\">\n",
       "<title>A&#45;&#45;D</title>\n",
       "<path fill=\"none\" stroke=\"black\" d=\"M94.04,-293.34C108.87,-283.75 128.89,-269.01 142.37,-252 159.91,-229.87 171.95,-199.02 178.24,-180.06\"/>\n",
       "</g>\n",
       "<!-- E -->\n",
       "<g id=\"node5\" class=\"node\">\n",
       "<title>E</title>\n",
       "<ellipse fill=\"none\" stroke=\"black\" cx=\"39.37\" cy=\"-90\" rx=\"27\" ry=\"18\"/>\n",
       "<text text-anchor=\"middle\" x=\"39.37\" y=\"-84.95\" font-family=\"Times New Roman,serif\" font-size=\"14.00\">E</text>\n",
       "</g>\n",
       "<!-- A&#45;&#45;E -->\n",
       "<g id=\"edge4\" class=\"edge\">\n",
       "<title>A&#45;&#45;E</title>\n",
       "<path fill=\"none\" stroke=\"black\" d=\"M62.06,-289.6C44.95,-267.1 14.78,-223.19 3.37,-180 -0.71,-164.53 -1.33,-159.29 3.37,-144 7.75,-129.75 17.41,-115.9 25.62,-105.93\"/>\n",
       "</g>\n",
       "<!-- B&#45;&#45;C -->\n",
       "<g id=\"edge5\" class=\"edge\">\n",
       "<title>B&#45;&#45;C</title>\n",
       "<path fill=\"none\" stroke=\"black\" d=\"M92.49,-218.5C80.99,-206.48 64.73,-189.49 53.24,-177.49\"/>\n",
       "</g>\n",
       "<!-- B&#45;&#45;D -->\n",
       "<g id=\"edge6\" class=\"edge\">\n",
       "<title>B&#45;&#45;D</title>\n",
       "<path fill=\"none\" stroke=\"black\" d=\"M121.96,-218.83C135.31,-206.69 154.46,-189.28 167.81,-177.14\"/>\n",
       "</g>\n",
       "<!-- F -->\n",
       "<g id=\"node6\" class=\"node\">\n",
       "<title>F</title>\n",
       "<ellipse fill=\"none\" stroke=\"black\" cx=\"111.37\" cy=\"-162\" rx=\"27\" ry=\"18\"/>\n",
       "<text text-anchor=\"middle\" x=\"111.37\" y=\"-156.95\" font-family=\"Times New Roman,serif\" font-size=\"14.00\">F</text>\n",
       "</g>\n",
       "<!-- B&#45;&#45;F -->\n",
       "<g id=\"edge7\" class=\"edge\">\n",
       "<title>B&#45;&#45;F</title>\n",
       "<path fill=\"none\" stroke=\"black\" d=\"M107.61,-215.7C108.38,-204.85 109.38,-190.92 110.15,-180.1\"/>\n",
       "</g>\n",
       "<!-- C&#45;&#45;E -->\n",
       "<g id=\"edge8\" class=\"edge\">\n",
       "<title>C&#45;&#45;E</title>\n",
       "<path fill=\"none\" stroke=\"black\" d=\"M39.37,-143.7C39.37,-132.85 39.37,-118.92 39.37,-108.1\"/>\n",
       "</g>\n",
       "<!-- G -->\n",
       "<g id=\"node7\" class=\"node\">\n",
       "<title>G</title>\n",
       "<ellipse fill=\"none\" stroke=\"black\" cx=\"111.37\" cy=\"-90\" rx=\"27\" ry=\"18\"/>\n",
       "<text text-anchor=\"middle\" x=\"111.37\" y=\"-84.95\" font-family=\"Times New Roman,serif\" font-size=\"14.00\">G</text>\n",
       "</g>\n",
       "<!-- C&#45;&#45;G -->\n",
       "<g id=\"edge9\" class=\"edge\">\n",
       "<title>C&#45;&#45;G</title>\n",
       "<path fill=\"none\" stroke=\"black\" d=\"M54.29,-146.5C66.65,-134.48 84.12,-117.49 96.47,-105.49\"/>\n",
       "</g>\n",
       "<!-- D&#45;&#45;E -->\n",
       "<g id=\"edge10\" class=\"edge\">\n",
       "<title>D&#45;&#45;E</title>\n",
       "<path fill=\"none\" stroke=\"black\" d=\"M161.81,-150.52C134.51,-137.25 87.76,-114.52 60.61,-101.32\"/>\n",
       "</g>\n",
       "<!-- H -->\n",
       "<g id=\"node8\" class=\"node\">\n",
       "<title>H</title>\n",
       "<ellipse fill=\"none\" stroke=\"black\" cx=\"183.37\" cy=\"-90\" rx=\"27\" ry=\"18\"/>\n",
       "<text text-anchor=\"middle\" x=\"183.37\" y=\"-84.95\" font-family=\"Times New Roman,serif\" font-size=\"14.00\">H</text>\n",
       "</g>\n",
       "<!-- D&#45;&#45;H -->\n",
       "<g id=\"edge11\" class=\"edge\">\n",
       "<title>D&#45;&#45;H</title>\n",
       "<path fill=\"none\" stroke=\"black\" d=\"M183.37,-143.7C183.37,-132.85 183.37,-118.92 183.37,-108.1\"/>\n",
       "</g>\n",
       "<!-- I -->\n",
       "<g id=\"node9\" class=\"node\">\n",
       "<title>I</title>\n",
       "<ellipse fill=\"none\" stroke=\"black\" cx=\"39.37\" cy=\"-18\" rx=\"27\" ry=\"18\"/>\n",
       "<text text-anchor=\"middle\" x=\"39.37\" y=\"-12.95\" font-family=\"Times New Roman,serif\" font-size=\"14.00\">I</text>\n",
       "</g>\n",
       "<!-- E&#45;&#45;I -->\n",
       "<g id=\"edge12\" class=\"edge\">\n",
       "<title>E&#45;&#45;I</title>\n",
       "<path fill=\"none\" stroke=\"black\" d=\"M39.37,-71.7C39.37,-60.85 39.37,-46.92 39.37,-36.1\"/>\n",
       "</g>\n",
       "<!-- F&#45;&#45;G -->\n",
       "<g id=\"edge13\" class=\"edge\">\n",
       "<title>F&#45;&#45;G</title>\n",
       "<path fill=\"none\" stroke=\"black\" d=\"M111.37,-143.7C111.37,-132.85 111.37,-118.92 111.37,-108.1\"/>\n",
       "</g>\n",
       "</g>\n",
       "</svg>\n"
      ],
      "text/plain": [
       "<graphviz.graphs.Graph at 0x1cd4b9809b0>"
      ]
     },
     "execution_count": 6,
     "metadata": {},
     "output_type": "execute_result"
    }
   ],
   "source": [
    "L=[('A','B'),('A','C'),('A','D'),('A','E'),('B','C'),('B','D'),('B','F'),('C','E'),('C','G'),('D','E'),('D','H'),('E','I'),('F','G')]\n",
    "G=Graphe()\n",
    "for u,v in L :\n",
    "    G.ajoute_arete(u,v)\n",
    "G.affiche()"
   ]
  },
  {
   "cell_type": "markdown",
   "metadata": {},
   "source": [
    "<div style=\"padding:10px ;border:solid 4px lightblue; border-radius: 10px; background-color:aliceblue;\">\n",
    "\n",
    "### Question 6\n",
    "    \n",
    "On rappelle l'algorithme parcoursLargeur :\n",
    "\n",
    "![graphes_parcours_6.png](https://ericecmorlaix.github.io/img/graphes_parcours_6.png)\n",
    "\n",
    "Compléter la fonction parcoursLargeur ci-dessous et la tester"
   ]
  },
  {
   "cell_type": "code",
   "execution_count": null,
   "metadata": {},
   "outputs": [],
   "source": [
    "def parcoursLargeur(G,s):\n",
    "    ''' In : un graphe G et un sommet s\n",
    "        Out: la liste du parcours en largeur'''\n",
    "    F=File()\n",
    "    L=[] # la liste des sommets visités que l'on va retourner\n",
    "    marque={s:False for s in G.sommets()}\n",
    "    F.enfile(s)\n",
    "    marque[s] = True\n",
    "    while not F.estVide() :\n",
    "        u = F.defile()\n",
    "        print(u)\n",
    "        "
   ]
  },
  {
   "cell_type": "code",
   "execution_count": null,
   "metadata": {},
   "outputs": [],
   "source": [
    "# jeu de tests (on vérifiera les réponses aux questions 1 et 2)\n"
   ]
  },
  {
   "cell_type": "code",
   "execution_count": null,
   "metadata": {},
   "outputs": [],
   "source": []
  },
  {
   "cell_type": "code",
   "execution_count": null,
   "metadata": {
    "deletable": false,
    "editable": false
   },
   "outputs": [],
   "source": [
    "# Test des différentes méthodes précédentes\n",
    "# permet de voir que vos méthodes ont l'air correctes, c'est le cas si cette cellule ne renvoie pas d'erreur\n",
    "GTest=Graphe()\n",
    "for i in range(0,10,2):\n",
    "    for j in range(1,10,2):\n",
    "        GTest.ajoute_arete(i,j)\n",
    "assert parcoursLargeur(GTest,0)==[0, 1, 3, 5, 7, 9, 2, 4, 6, 8]\n",
    "assert parcoursLargeur(GTest,1)==[1, 0, 2, 4, 6, 8, 3, 5, 7, 9]"
   ]
  },
  {
   "cell_type": "markdown",
   "metadata": {},
   "source": [
    "<div style=\"padding:10px ;border:solid 4px lightblue; border-radius: 10px; background-color:aliceblue;\">\n",
    "\n",
    "### Question 7\n",
    "    \n",
    "On rappelle l'algorithme parcoursProfondeur :\n",
    "\n",
    "![graphes_parcours_7.png](https://ericecmorlaix.github.io/img/graphes_parcours_7.png)\n",
    "\n",
    "Compléter la fonction parcoursProfondeur ci-dessous et la tester"
   ]
  },
  {
   "cell_type": "code",
   "execution_count": null,
   "metadata": {},
   "outputs": [],
   "source": [
    "def parcoursProfondeur(G,s):\n",
    "    ''' In : un graphe G et un sommet s\n",
    "        Out: la liste du parcours en profondeur'''\n",
    "    pass"
   ]
  },
  {
   "cell_type": "code",
   "execution_count": null,
   "metadata": {},
   "outputs": [],
   "source": [
    "# jeu de tests (on vérifiera les réponses aux questions 1 et 2)\n"
   ]
  },
  {
   "cell_type": "code",
   "execution_count": null,
   "metadata": {},
   "outputs": [],
   "source": []
  },
  {
   "cell_type": "code",
   "execution_count": null,
   "metadata": {
    "deletable": false,
    "editable": false
   },
   "outputs": [],
   "source": [
    "# Test des différentes méthodes précédentes\n",
    "# permet de voir que vos méthodes ont l'air correctes, c'est le cas si cette cellule ne renvoie pas d'erreur\n",
    "GTest=Graphe()\n",
    "for i in range(0,10,2):\n",
    "    for j in range(1,10,2):\n",
    "        GTest.ajoute_arete(i,j)\n",
    "assert parcoursProfondeur(GTest,0)==[0, 9, 8, 6, 4, 2, 7, 5, 3, 1]\n",
    "assert parcoursProfondeur(GTest,1)==[1, 8, 9, 7, 5, 3, 6, 4, 2, 0]"
   ]
  },
  {
   "cell_type": "markdown",
   "metadata": {},
   "source": [
    "<div style=\"padding:10px ;border:solid 4px lightblue; border-radius: 10px; background-color:aliceblue;\">\n",
    "\n",
    "### Question 7\n",
    "    \n",
    "Compléter la version récursive du parcours en profondeur ci-dessous et la tester (attention, le parcours ne sera pas le même que ParcoursProfondeur, mais le but est de parcourir tous les sommets du graphe)\n",
    "    \n",
    "La liste dejaVu qui est en paramètre va se remplir peu à peu, c'est elle que l'on retournera"
   ]
  },
  {
   "cell_type": "code",
   "execution_count": null,
   "metadata": {},
   "outputs": [],
   "source": [
    "def parcoursProfondeur_rec(G,s,dejaVu=[]):\n",
    "    ''' In : un graphe G, un sommet s, une liste des sommets déjà visités\n",
    "        Out: la liste du parcours en profondeur'''\n",
    "    dejaVu.append(s) # on commence par dire que s a été visité\n",
    "    for v in G.voisins(s):# pour tous les voisins v de s\n",
    "        if not (v in dejaVu):# si v n'a pas été visité\n",
    "            ... # on parcourt récursivement à partir de v\n",
    "    return dejaVu"
   ]
  },
  {
   "cell_type": "code",
   "execution_count": null,
   "metadata": {},
   "outputs": [],
   "source": []
  },
  {
   "cell_type": "code",
   "execution_count": null,
   "metadata": {
    "deletable": false,
    "editable": false
   },
   "outputs": [],
   "source": [
    "# Test des différentes méthodes précédentes\n",
    "# permet de voir que vos méthodes ont l'air correctes, c'est le cas si cette cellule ne renvoie pas d'erreur\n",
    "GTest=Graphe()\n",
    "for i in range(0,10,2):\n",
    "    for j in range(1,10,2):\n",
    "        GTest.ajoute_arete(i,j)\n",
    "assert parcoursProfondeur_rec(GTest,0,[])==[0, 1, 2, 3, 4, 5, 6, 7, 8, 9]\n",
    "assert parcoursProfondeur_rec(GTest,1,[])==[1, 0, 3, 2, 5, 4, 7, 6, 9, 8]"
   ]
  },
  {
   "cell_type": "markdown",
   "metadata": {},
   "source": [
    "## 1ère application d'un parcours : détecter si un graphe est connexe ou pas"
   ]
  },
  {
   "cell_type": "markdown",
   "metadata": {},
   "source": [
    "<div style=\"padding:10px ;border:solid 4px lightblue; border-radius: 10px; background-color:aliceblue;\">\n",
    "\n",
    "### Question 8\n",
    "    \n",
    "A l'image de l'instanciation du graphe G fait plus haut, créer un graphe G1 non connexe et le dessiner"
   ]
  },
  {
   "cell_type": "code",
   "execution_count": null,
   "metadata": {},
   "outputs": [],
   "source": [
    "G1=Graphe()\n",
    "# à compléter"
   ]
  },
  {
   "cell_type": "markdown",
   "metadata": {},
   "source": [
    "<div style=\"padding:10px ;border:solid 4px lightblue; border-radius: 10px; background-color:aliceblue;\">\n",
    "\n",
    "### Question 9\n",
    "    \n",
    "Compléter la fonction suivante qui teste si un graphe est connexe ou pas, puis la tester.\n",
    "    \n",
    "<details style =\"background-color: Silver;\">\n",
    "   <summary > Cliquez ici pour un indice  </summary>\n",
    "il suffit de reprendre un des parcours vus, de choisir un sommet quelconque s et de comparer ...\n",
    "</details>\n",
    "</div>"
   ]
  },
  {
   "cell_type": "code",
   "execution_count": null,
   "metadata": {},
   "outputs": [],
   "source": [
    "def estConnexe(G):\n",
    "    ''' In : un graphe G non vide\n",
    "        Out: True si G est connexe, False sinon'''\n",
    "    pass"
   ]
  },
  {
   "cell_type": "code",
   "execution_count": null,
   "metadata": {},
   "outputs": [],
   "source": [
    "# Jeu de tests de la fonction estConnexe\n"
   ]
  },
  {
   "cell_type": "code",
   "execution_count": null,
   "metadata": {},
   "outputs": [],
   "source": []
  },
  {
   "cell_type": "code",
   "execution_count": null,
   "metadata": {
    "deletable": false,
    "editable": false
   },
   "outputs": [],
   "source": [
    "# Test des différentes méthodes précédentes\n",
    "# permet de voir que vos méthodes ont l'air correctes, c'est le cas si cette cellule ne renvoie pas d'erreur\n",
    "GTest=Graphe()\n",
    "for i in range(0,10,2):\n",
    "    for j in range(1,10,2):\n",
    "        GTest.ajoute_arete(i,j)\n",
    "GTestBis=Graphe()\n",
    "for i in range(9):\n",
    "    for j in range(i+1,10):\n",
    "        GTestBis.ajoute_arete(i,j)\n",
    "for i in range(10,19):\n",
    "    for j in range(i+1,20):\n",
    "        GTestBis.ajoute_arete(i,j) \n",
    "assert estConnexe(GTest)==True\n",
    "assert estConnexe(GTestBis)==False"
   ]
  },
  {
   "cell_type": "markdown",
   "metadata": {},
   "source": [
    "## Application du parcours en largeur : calculer la distance entre 2 sommets\n",
    "On rappelle que la distance entre deux sommets s et t d'un graphe non orienté est la longueur de la plus petite chaîne reliant  s et t"
   ]
  },
  {
   "cell_type": "markdown",
   "metadata": {},
   "source": [
    "<div style=\"padding:10px ;border:solid 4px lightblue; border-radius: 10px; background-color:aliceblue;\">\n",
    "\n",
    "### Question 10\n",
    "    \n",
    "Compléter la fonction suivante qui renvoie le dictionnaire donnant les distances entre un sommet s donné et tous les autres sommets du graphe atteignables par s"
   ]
  },
  {
   "cell_type": "code",
   "execution_count": null,
   "metadata": {},
   "outputs": [],
   "source": [
    "def distances(G,s):\n",
    "    ''' In : un graphe G non orienté et un sommet s\n",
    "        Out: le dictionnaire donnant la distance entre s et les autres sommets atteignables par s'''\n",
    "    F=File()\n",
    "    d=dict() # le dictionnaire en question\n",
    "    F.enfile(s)\n",
    "    d[s]=0 # la distance de s à s est 0, cela permet également de marquer s\n",
    "    pass"
   ]
  },
  {
   "cell_type": "code",
   "execution_count": null,
   "metadata": {},
   "outputs": [],
   "source": [
    "# Jeu de tests de la fonction distances\n"
   ]
  },
  {
   "cell_type": "code",
   "execution_count": null,
   "metadata": {},
   "outputs": [],
   "source": []
  },
  {
   "cell_type": "code",
   "execution_count": null,
   "metadata": {},
   "outputs": [],
   "source": [
    "# Test des différentes méthodes précédentes\n",
    "# permet de voir que vos méthodes ont l'air correctes, c'est le cas si cette cellule ne renvoie pas d'erreur\n",
    "GTest=Graphe()\n",
    "for i in range(0,10,2):\n",
    "    for j in range(1,10,2):\n",
    "        GTest.ajoute_arete(i,j)\n",
    "assert distances(GTest,0)=={0: 0, 1: 1, 3: 1, 5: 1, 7: 1, 9: 1, 2: 2, 4: 2, 6: 2, 8: 2}\n",
    "assert distances(GTest,1)=={1: 0, 0: 1, 2: 1, 4: 1, 6: 1, 8: 1, 3: 2, 5: 2, 7: 2, 9: 2}"
   ]
  },
  {
   "cell_type": "markdown",
   "metadata": {},
   "source": [
    "## Application du parcours en profondeur : détecter un cycle"
   ]
  },
  {
   "cell_type": "markdown",
   "metadata": {},
   "source": [
    "<div style=\"padding:10px ;border:solid 4px lightblue; border-radius: 10px; background-color:aliceblue;\">\n",
    "\n",
    "### Question 11\n",
    "    \n",
    "A l'image de l'instanciation du graphe G fait plus haut, créer un graphe G2 acyclique (càd sans cycle), par exemple un arbre et le dessiner"
   ]
  },
  {
   "cell_type": "code",
   "execution_count": null,
   "metadata": {},
   "outputs": [],
   "source": [
    "G2=Graphe()\n",
    "# à compléter"
   ]
  },
  {
   "cell_type": "markdown",
   "metadata": {},
   "source": [
    "<div style=\"padding:10px ;border:solid 4px lightblue; border-radius: 10px; background-color:aliceblue;\">\n",
    "\n",
    "### Question 12\n",
    "\n",
    "On donne l'algorithme détectionCycle :\n",
    "\n",
    "![graphes_parcours_12.png](https://ericecmorlaix.github.io/img/graphes_parcours_12.png)\n",
    "   \n",
    "Adapter cet algorithme (pour qu'il puisse fonctionner avec des sommets autres que des entiers de 0 à n) en prenant non pas une liste de prédecesseurs mais un dictionnaire puis compléter la fonction suivante qui détecte s'il y a un cycle ou non, et enfin la tester"
   ]
  },
  {
   "cell_type": "code",
   "execution_count": null,
   "metadata": {},
   "outputs": [],
   "source": [
    "def detectionCycle(G,s):\n",
    "    ''' In : un graphe G non orienté et un sommet s\n",
    "        Out: True s'il n'y a pas de cycle atteignable par s, et False sinon'''\n",
    "    P=Pile()\n",
    "    Pred=dict() # le dictionnaire des prédecesseurs (inutile d'initialiser à -1 puisqu'il est vide)\n",
    "    P.empile(s)\n",
    "    Pred[s]=s\n",
    "    pass"
   ]
  },
  {
   "cell_type": "code",
   "execution_count": null,
   "metadata": {},
   "outputs": [],
   "source": [
    "# Jeu de tests de la fonction detectionCycle\n"
   ]
  },
  {
   "cell_type": "code",
   "execution_count": null,
   "metadata": {},
   "outputs": [],
   "source": []
  },
  {
   "cell_type": "code",
   "execution_count": null,
   "metadata": {},
   "outputs": [],
   "source": []
  },
  {
   "cell_type": "code",
   "execution_count": null,
   "metadata": {},
   "outputs": [],
   "source": [
    "# Test des différentes méthodes précédentes\n",
    "# permet de voir que vos méthodes ont l'air correctes, c'est le cas si cette cellule ne renvoie pas d'erreur\n",
    "GTest=Graphe()\n",
    "for i in range(0,20,2):\n",
    "    GTest.ajoute_arete(i,i+1)\n",
    "    GTest.ajoute_arete(i+1,i+2)\n",
    "assert detectionCycle(GTest,0)==False\n",
    "GTest.ajoute_arete(0,19)\n",
    "assert detectionCycle(GTest,0)==True"
   ]
  },
  {
   "cell_type": "markdown",
   "metadata": {},
   "source": [
    "<div style=\"padding:10px ;border:solid 4px lightblue; border-radius: 10px; background-color:aliceblue;\">\n",
    "\n",
    "### Question 13\n",
    "\n",
    "Compléter la fonction suivante qui teste si le graphe donné est un arbre ou pas.\n",
    "\n",
    "Challenge : à faire sur 1 seule ligne (si c'est possible en utilisant les fonctions précédentes et sans compter la docstring évidemment)"
   ]
  },
  {
   "cell_type": "code",
   "execution_count": null,
   "metadata": {},
   "outputs": [],
   "source": [
    "def estUnArbre(G):\n",
    "    ''' In : un graphe G non orienté\n",
    "        Out: True si G est un arbre et False sinon'''\n",
    "    pass"
   ]
  },
  {
   "cell_type": "code",
   "execution_count": null,
   "metadata": {},
   "outputs": [],
   "source": [
    "# Jeu de tests de la fonction estUnArbre\n"
   ]
  },
  {
   "cell_type": "code",
   "execution_count": null,
   "metadata": {},
   "outputs": [],
   "source": []
  },
  {
   "cell_type": "code",
   "execution_count": null,
   "metadata": {},
   "outputs": [],
   "source": []
  },
  {
   "cell_type": "code",
   "execution_count": null,
   "metadata": {},
   "outputs": [],
   "source": [
    "# Test des différentes méthodes précédentes\n",
    "# permet de voir que vos méthodes ont l'air correctes, c'est le cas si cette cellule ne renvoie pas d'erreur\n",
    "GTest=Graphe()\n",
    "for i in range(0,20,2):\n",
    "    GTest.ajoute_arete(i,i+1)\n",
    "    GTest.ajoute_arete(i+1,i+2)\n",
    "assert estUnArbre(GTest)==True\n",
    "GTest.ajoute_arete(0,19)\n",
    "assert estUnArbre(GTest)==False\n",
    "GTestBis=Graphe()\n",
    "for i in range(9):\n",
    "    for j in range(i+1,10):\n",
    "        GTestBis.ajoute_arete(i,j)\n",
    "for i in range(10,19):\n",
    "    for j in range(i+1,20):\n",
    "        GTestBis.ajoute_arete(i,j) \n",
    "assert estUnArbre(GTestBis)==False"
   ]
  },
  {
   "cell_type": "markdown",
   "metadata": {},
   "source": [
    "<div style=\"padding:10px ;border:solid 4px lightblue; border-radius: 10px; background-color:aliceblue;\">\n",
    "\n",
    "### Question 14\n",
    "\n",
    "Représenter le graphe donné en cours noté G3 en vous aidant de son dictionnaire d'adjacence donné ci-dessous"
   ]
  },
  {
   "cell_type": "code",
   "execution_count": null,
   "metadata": {},
   "outputs": [],
   "source": [
    "d3={'0': ['1', '2', '8'], '1': ['0', '4', '5'], '2': ['0', '4', '5'], '3': ['5', '6'], '4': ['1', '2', '8'], '5': ['1', '2', '3', '7', '8'], '6': ['3', '8', '9'], '7': ['5', '8'], '8': ['0', '4', '5', '6', '7'], '9': ['6']}\n",
    "G3=Graphe()\n",
    "# à compléter"
   ]
  },
  {
   "cell_type": "markdown",
   "metadata": {},
   "source": [
    "<div style=\"padding:10px ;border:solid 4px lightblue; border-radius: 10px; background-color:aliceblue;\">\n",
    "\n",
    "### Question 15\n",
    "\n",
    "Compléter la fonction suivante (seulement 2 lignes) qui renvoie une chaîne contenant le 1er cycle détecté en partant d'un sommet s donné"
   ]
  },
  {
   "cell_type": "code",
   "execution_count": null,
   "metadata": {},
   "outputs": [],
   "source": [
    "def premierCycle(G,s):\n",
    "    ''' In : un graphe G non orienté et un sommet s\n",
    "        Out: renvoie sous forme de liste une chaîne contenant le 1er cycle détecté atteignable par s\n",
    "             Si G n'a pas de cycle, renvoie une liste vide'''\n",
    "    P=Pile()\n",
    "    Pred=dict() # le dictionnaire des prédecesseurs (inutile d'initialiser à -1 puisqu'il est vide)\n",
    "    P.empile(s)\n",
    "    Pred[s]=s\n",
    "    while not P.estVide():\n",
    "        u=P.depile()\n",
    "        for v in G.voisins(u):\n",
    "            if not (v in Pred):\n",
    "                Pred[v]=u\n",
    "                P.empile(v)\n",
    "            elif v!=Pred[u]:# Le cycle est alors s-....-Pred[u]-u-v-Pred[v]-...-s\n",
    "                # on cherche tous les sommets : u - Pred[u] - ... - s\n",
    "                L=[u]\n",
    "                sommet_courant=u\n",
    "                while sommet_courant!=s:\n",
    "                    sommet_courant=...\n",
    "                    L.append(sommet_courant)\n",
    "                # maintenant, on cherche tous les sommets : v - Pred[v] - ... - s\n",
    "                sommet_courant=v\n",
    "                while sommet_courant!=s:\n",
    "                    L.insert(0,sommet_courant) # pour insérer par la gauche\n",
    "                    sommet_courant=...\n",
    "                return L\n",
    "    return []"
   ]
  },
  {
   "cell_type": "code",
   "execution_count": null,
   "metadata": {},
   "outputs": [],
   "source": [
    "# Jeu de tests (on pensera à tester le graphe G3 pour vérifier l'exercice 17 du cours)\n"
   ]
  },
  {
   "cell_type": "code",
   "execution_count": null,
   "metadata": {},
   "outputs": [],
   "source": []
  },
  {
   "cell_type": "code",
   "execution_count": null,
   "metadata": {},
   "outputs": [],
   "source": []
  },
  {
   "cell_type": "code",
   "execution_count": null,
   "metadata": {},
   "outputs": [],
   "source": []
  },
  {
   "cell_type": "code",
   "execution_count": null,
   "metadata": {},
   "outputs": [],
   "source": []
  },
  {
   "cell_type": "code",
   "execution_count": null,
   "metadata": {},
   "outputs": [],
   "source": []
  },
  {
   "cell_type": "code",
   "execution_count": null,
   "metadata": {},
   "outputs": [],
   "source": []
  },
  {
   "cell_type": "code",
   "execution_count": null,
   "metadata": {},
   "outputs": [],
   "source": [
    "# Test des différentes méthodes précédentes\n",
    "# permet de voir que vos méthodes ont l'air correctes, c'est le cas si cette cellule ne renvoie pas d'erreur\n",
    "GTest=Graphe()\n",
    "for i in range(0,20,2):\n",
    "    GTest.ajoute_arete(i,i+1)\n",
    "    GTest.ajoute_arete(i+1,i+2)\n",
    "assert premierCycle(GTest,0)==[]\n",
    "GTest.ajoute_arete(0,19)\n",
    "assert premierCycle(GTest,0)==[1, 2, 3, 4, 5, 6, 7, 8, 9, 10, 11, 12, 13, 14, 15, 16, 17, 18, 19, 0]"
   ]
  },
  {
   "cell_type": "code",
   "execution_count": null,
   "metadata": {},
   "outputs": [],
   "source": []
  }
 ],
 "metadata": {
  "celltoolbar": "Éditer les Méta-Données",
  "kernelspec": {
   "display_name": "Python 3",
   "language": "python",
   "name": "python3"
  },
  "language_info": {
   "codemirror_mode": {
    "name": "ipython",
    "version": 3
   },
   "file_extension": ".py",
   "mimetype": "text/x-python",
   "name": "python",
   "nbconvert_exporter": "python",
   "pygments_lexer": "ipython3",
   "version": "3.12.1"
  },
  "varInspector": {
   "cols": {
    "lenName": 16,
    "lenType": 16,
    "lenVar": 40
   },
   "kernels_config": {
    "python": {
     "delete_cmd_postfix": "",
     "delete_cmd_prefix": "del ",
     "library": "var_list.py",
     "varRefreshCmd": "print(var_dic_list())"
    },
    "r": {
     "delete_cmd_postfix": ") ",
     "delete_cmd_prefix": "rm(",
     "library": "var_list.r",
     "varRefreshCmd": "cat(var_dic_list()) "
    }
   },
   "types_to_exclude": [
    "module",
    "function",
    "builtin_function_or_method",
    "instance",
    "_Feature"
   ],
   "window_display": false
  }
 },
 "nbformat": 4,
 "nbformat_minor": 2
}
