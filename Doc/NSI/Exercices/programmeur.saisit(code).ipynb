{
 "cells": [
  {
   "cell_type": "markdown",
   "metadata": {},
   "source": [
    "# programmeur.saisit(code)"
   ]
  },
  {
   "cell_type": "markdown",
   "metadata": {},
   "source": [
    "## I) Guybrush et Helaine\n",
    "Guybrush est un pirate et il est marié avec Helaine, la Gouverneure de l'île des pirates.\n",
    "\n",
    "Créez un personnage nommé 'Guybrush' qui a 100 d'énergie. Ce Personnage doit être affecté à la variable guy.\n",
    "\n",
    "Créez également un personnage nommé 'Helaine' qui a 200 d'énergie. Ce Personnage doit être affecté à la variable helaine."
   ]
  },
  {
   "cell_type": "code",
   "execution_count": 9,
   "metadata": {},
   "outputs": [],
   "source": [
    "class Personnage:\n",
    "    def __init__(self,nom : str,energie : int) :\n",
    "        self.nom = nom\n",
    "        self.energie = energie\n",
    "        self.inventaire = []\n",
    "        \n",
    "\n",
    "        \n",
    "    \n"
   ]
  },
  {
   "cell_type": "code",
   "execution_count": null,
   "metadata": {},
   "outputs": [],
   "source": [
    "guy = Personnage(\"Guybrush\", 100)\n",
    "helaine = Personnage(\"Helaine\", 200)\n",
    "\n",
    "# Tests\n",
    "\n",
    "assert str(guy) == \"Guybrush (100, [])\", \"Erreur avec la méthode '__init__'\"\n",
    "assert str(helaine) == \"Helaine (200, [])\", \"Erreur avec la méthode '__init__'\""
   ]
  }
 ],
 "metadata": {
  "kernelspec": {
   "display_name": "Python 3",
   "language": "python",
   "name": "python3"
  },
  "language_info": {
   "codemirror_mode": {
    "name": "ipython",
    "version": 3
   },
   "file_extension": ".py",
   "mimetype": "text/x-python",
   "name": "python",
   "nbconvert_exporter": "python",
   "pygments_lexer": "ipython3",
   "version": "3.12.1"
  }
 },
 "nbformat": 4,
 "nbformat_minor": 2
}
