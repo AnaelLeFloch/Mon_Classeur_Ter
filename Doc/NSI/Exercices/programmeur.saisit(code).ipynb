{
 "cells": [
  {
   "cell_type": "markdown",
   "metadata": {},
   "source": [
    "# programmeur.saisit(code)\n",
    "\n",
    "## [Site](https://codex.forge.apps.education.fr/exercices/syntaxe_poo/#programmeursaisitcode)"
   ]
  },
  {
   "cell_type": "code",
   "execution_count": 3,
   "metadata": {},
   "outputs": [],
   "source": [
    "class Personnage:\n",
    "    def __init__(self,nom : str,energie : int) :\n",
    "        self.nom = nom\n",
    "        self.energie = energie\n",
    "        self.inventaire = []\n",
    "\n",
    "class Chose:\n",
    "    def __init__(self,genre : str) :\n",
    "        self.genre = genre"
   ]
  },
  {
   "cell_type": "markdown",
   "metadata": {},
   "source": [
    "## I) Guybrush et Helaine\n",
    "Guybrush est un pirate et il est marié avec Helaine, la Gouverneure de l'île des pirates.\n",
    "\n",
    "Créez un personnage nommé 'Guybrush' qui a 100 d'énergie. Ce Personnage doit être affecté à la variable guy.\n",
    "\n",
    "Créez également un personnage nommé 'Helaine' qui a 200 d'énergie. Ce Personnage doit être affecté à la variable helaine."
   ]
  },
  {
   "cell_type": "code",
   "execution_count": 2,
   "metadata": {},
   "outputs": [],
   "source": [
    "guy = Personnage(\"Guybrush\", 100)\n",
    "helaine = Personnage(\"Helaine\", 200)"
   ]
  },
  {
   "cell_type": "code",
   "execution_count": null,
   "metadata": {},
   "outputs": [],
   "source": [
    "# Tests\n",
    "\n",
    "assert str(guy) == \"Guybrush (100, [])\", \"Erreur avec la méthode '__init__'\"\n",
    "assert str(helaine) == \"Helaine (200, [])\", \"Erreur avec la méthode '__init__'\""
   ]
  },
  {
   "cell_type": "markdown",
   "metadata": {},
   "source": [
    "## II) Les aventures de Guybrush\n",
    "\n",
    "En fait, Guybrush n'est pas vraiment pirate. Il rêve de l'être et s'invente de grandes aventures.\n",
    "\n",
    "Helaine est fatiguée de l'entendre raconter ces histoires, toutes fausses, et lui lance un défi. Elle lui demande d'aller trouver le trésor de l'île aux Singes et de le lui ramener.\n",
    "\n",
    "Faites parler Guybrush à Helaine puis faites parler Helaine à Guybrush.\n",
    "\n",
    "Vous affecterez le résultat de ces deux conversations dans des variables conversation1 et conversation2."
   ]
  },
  {
   "cell_type": "code",
   "execution_count": null,
   "metadata": {},
   "outputs": [],
   "source": [
    "conversation1 = guy.parle(helaine)\n",
    "conversation2 = helaine.parle(guy)\n",
    "\n",
    "# Tests\n",
    "\n",
    "assert conversation1 == \"Guybrush et Helaine discutent\", \"Erreur avec la méthode 'parle'\"\n",
    "assert conversation2 == \"Helaine et Guybrush discutent\", \"Erreur avec la méthode 'parle'\""
   ]
  },
  {
   "cell_type": "markdown",
   "metadata": {},
   "source": [
    "## III) Se préparer pour le voyage\n",
    "\n",
    "Guybrush n'est pas très en forme. Il a besoin de reprendre des forces pour le voyage qui l'attend.\n",
    "\n",
    "Il se rend à la taverne et y prend un gâteau.\n",
    "\n",
    "Affectez à la variable gateau un nouvel objet de la classe Chose et de genre 'gâteau'.\n",
    "\n",
    "Faites en sorte que Guybrush prenne le gâteau et affectez le résultat de cette action dans une variable resultat."
   ]
  },
  {
   "cell_type": "code",
   "execution_count": null,
   "metadata": {},
   "outputs": [],
   "source": [
    "gateau = Chose(\"gâteau\")\n",
    "resultat = guy.prend(gateau)\n",
    "\n",
    "# Tests\n",
    "\n",
    "assert gateau.genre == \"gâteau\", \"Erreur avec l'attribut 'genre'\"\n",
    "assert gateau in guy.inventaire, \"Erreur avec la méthode 'prend'\"\n",
    "assert resultat == \"Guybrush prend un(e) gâteau\", \"Erreur avec la méthode 'prend'\""
   ]
  }
 ],
 "metadata": {
  "kernelspec": {
   "display_name": "Python 3",
   "language": "python",
   "name": "python3"
  },
  "language_info": {
   "codemirror_mode": {
    "name": "ipython",
    "version": 3
   },
   "file_extension": ".py",
   "mimetype": "text/x-python",
   "name": "python",
   "nbconvert_exporter": "python",
   "pygments_lexer": "ipython3",
   "version": "3.12.1"
  }
 },
 "nbformat": 4,
 "nbformat_minor": 2
}
