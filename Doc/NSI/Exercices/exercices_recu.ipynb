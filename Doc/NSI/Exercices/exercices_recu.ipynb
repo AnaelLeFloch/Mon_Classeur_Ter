{
 "cells": [
  {
   "cell_type": "markdown",
   "metadata": {},
   "source": [
    "# Suite de Fibonacci"
   ]
  },
  {
   "cell_type": "code",
   "execution_count": 94,
   "metadata": {},
   "outputs": [],
   "source": [
    "fibo = 1\n",
    "nacci = 1"
   ]
  },
  {
   "cell_type": "code",
   "execution_count": 95,
   "metadata": {},
   "outputs": [],
   "source": [
    "n = 3\n",
    "for i in range(n-2) :\n",
    "            leonardo = fibo\n",
    "            fibo += nacci\n",
    "            nacci =leonardo\n",
    "\n"
   ]
  },
  {
   "cell_type": "code",
   "execution_count": 96,
   "metadata": {},
   "outputs": [
    {
     "data": {
      "text/plain": [
       "2"
      ]
     },
     "execution_count": 96,
     "metadata": {},
     "output_type": "execute_result"
    }
   ],
   "source": [
    "fibo"
   ]
  },
  {
   "cell_type": "code",
   "execution_count": 4,
   "metadata": {},
   "outputs": [],
   "source": [
    "# Version itérative\n",
    "\n",
    "def fibonacci(n):\n",
    "    fibo = 1\n",
    "    nacci = 1\n",
    "    leonardo = 1\n",
    "    \n",
    "    if n < 2:\n",
    "        return n\n",
    "    \n",
    "    else :\n",
    "        for i in range(n-2) :\n",
    "            leonardo = fibo\n",
    "            fibo += nacci\n",
    "            nacci =leonardo\n",
    "        \n",
    "        return fibo\n",
    "\n",
    "#version récursive\n",
    "\n",
    "def fibonacci_recu(n):\n",
    "    if n < 2:\n",
    "        return n\n",
    "    else:\n",
    "        return fibonacci_recu(n - 1) + fibonacci_recu(n - 2)"
   ]
  },
  {
   "cell_type": "code",
   "execution_count": 5,
   "metadata": {},
   "outputs": [
    {
     "data": {
      "text/plain": [
       "2"
      ]
     },
     "execution_count": 5,
     "metadata": {},
     "output_type": "execute_result"
    }
   ],
   "source": [
    "fibonacci(3)"
   ]
  },
  {
   "cell_type": "markdown",
   "metadata": {},
   "source": [
    "# Algorithme de rendu de monnaie"
   ]
  },
  {
   "cell_type": "code",
   "execution_count": 2,
   "metadata": {},
   "outputs": [],
   "source": [
    "PIECES = [100, 50, 20, 10, 5, 2, 1]\n",
    "\n",
    "def rendu_monnaie(a_rendre, i=0):\n",
    "    if a_rendre == 0:\n",
    "        return []\n",
    "    p = PIECES[i]\n",
    "    if p <= a_rendre :\n",
    "        return [p] + rendu_monnaie(a_rendre - p, i)\n",
    "    else :\n",
    "        return rendu_monnaie(a_rendre, i + 1)\n"
   ]
  },
  {
   "cell_type": "code",
   "execution_count": 3,
   "metadata": {},
   "outputs": [
    {
     "data": {
      "text/plain": [
       "[50, 10, 5, 2, 1]"
      ]
     },
     "execution_count": 3,
     "metadata": {},
     "output_type": "execute_result"
    }
   ],
   "source": [
    "rendu_monnaie(68)"
   ]
  },
  {
   "cell_type": "code",
   "execution_count": 6,
   "metadata": {},
   "outputs": [
    {
     "data": {
      "text/plain": [
       "[100, 100, 50, 20, 20, 1]"
      ]
     },
     "execution_count": 6,
     "metadata": {},
     "output_type": "execute_result"
    }
   ],
   "source": [
    "rendu_monnaie(291)"
   ]
  },
  {
   "cell_type": "markdown",
   "metadata": {},
   "source": [
    "# Percolation"
   ]
  },
  {
   "cell_type": "code",
   "execution_count": null,
   "metadata": {},
   "outputs": [],
   "source": [
    "TERRE = 1\n",
    "VIDE = 0\n",
    "EAU = 2\n",
    "\n",
    "\n",
    "def percolation(sol, i, j, prof_max):\n",
    "    sol[i][j] = EAU\n",
    "\n",
    "    if i == prof_max:\n",
    "        return True\n",
    "    else:\n",
    "        if sol[i + 1][j] == VIDE:\n",
    "            if percolation(sol, i + 1, j, prof_max):\n",
    "                return True\n",
    "\n",
    "        if sol[i][j - 1] == VIDE:\n",
    "            if percolation(sol, i, j - 1, prof_max):\n",
    "                return True\n",
    "\n",
    "        if sol[i][j + 1] == VIDE:\n",
    "            if percolation(sol, i, j + 1, prof_max):\n",
    "                return True\n",
    "\n",
    "        return False"
   ]
  },
  {
   "cell_type": "markdown",
   "metadata": {},
   "source": [
    "# Anagrammes"
   ]
  },
  {
   "cell_type": "code",
   "execution_count": null,
   "metadata": {},
   "outputs": [],
   "source": [
    "def supprime_premier(chaine, cible):\n",
    "    for i in range(chaine) :\n",
    "        if chaine[i] == cible :\n",
    "            chaine.pop([i])\n",
    "            return (True, chaine)\n",
    "        \n",
    "    else :\n",
    "        return(False, chaine)\n"
   ]
  }
 ],
 "metadata": {
  "kernelspec": {
   "display_name": "Python 3",
   "language": "python",
   "name": "python3"
  },
  "language_info": {
   "codemirror_mode": {
    "name": "ipython",
    "version": 3
   },
   "file_extension": ".py",
   "mimetype": "text/x-python",
   "name": "python",
   "nbconvert_exporter": "python",
   "pygments_lexer": "ipython3",
   "version": "3.12.1"
  }
 },
 "nbformat": 4,
 "nbformat_minor": 2
}
