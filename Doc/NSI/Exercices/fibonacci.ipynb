{
 "cells": [
  {
   "cell_type": "code",
   "execution_count": 94,
   "metadata": {},
   "outputs": [],
   "source": [
    "fibo = 1\n",
    "nacci = 1"
   ]
  },
  {
   "cell_type": "code",
   "execution_count": 95,
   "metadata": {},
   "outputs": [],
   "source": [
    "n = 3\n",
    "for i in range(n-2) :\n",
    "            leonardo = fibo\n",
    "            fibo += nacci\n",
    "            nacci =leonardo\n",
    "\n"
   ]
  },
  {
   "cell_type": "code",
   "execution_count": 96,
   "metadata": {},
   "outputs": [
    {
     "data": {
      "text/plain": [
       "2"
      ]
     },
     "execution_count": 96,
     "metadata": {},
     "output_type": "execute_result"
    }
   ],
   "source": [
    "fibo"
   ]
  },
  {
   "cell_type": "code",
   "execution_count": null,
   "metadata": {},
   "outputs": [],
   "source": [
    "# Version itérative\n",
    "\n",
    "def fibonacci(n):\n",
    "    fibo = 1\n",
    "    nacci = 1\n",
    "    leonardo = 1\n",
    "    \n",
    "    if n < 2:\n",
    "        return n\n",
    "    \n",
    "    else :\n",
    "        for i in range(n-2) :\n",
    "            leonardo = fibo\n",
    "            fibo += nacci\n",
    "            nacci =leonardo\n",
    "        \n",
    "        return fibo\n",
    "\n",
    "#version récursive\n",
    "\n",
    "def fibonacci_recu(n):\n",
    "    if n < 2:\n",
    "        return n\n",
    "    else:\n",
    "        return fibonacci_recu(n - 1) + fibonacci_recu(n - 2)"
   ]
  },
  {
   "cell_type": "code",
   "execution_count": 115,
   "metadata": {},
   "outputs": [
    {
     "data": {
      "text/plain": [
       "2"
      ]
     },
     "execution_count": 115,
     "metadata": {},
     "output_type": "execute_result"
    }
   ],
   "source": [
    "fibonacci(3)"
   ]
  }
 ],
 "metadata": {
  "kernelspec": {
   "display_name": "Python 3",
   "language": "python",
   "name": "python3"
  },
  "language_info": {
   "codemirror_mode": {
    "name": "ipython",
    "version": 3
   },
   "file_extension": ".py",
   "mimetype": "text/x-python",
   "name": "python",
   "nbconvert_exporter": "python",
   "pygments_lexer": "ipython3",
   "version": "3.12.1"
  }
 },
 "nbformat": 4,
 "nbformat_minor": 2
}
