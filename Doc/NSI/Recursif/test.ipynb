{
 "cells": [
  {
   "cell_type": "code",
   "execution_count": 14,
   "metadata": {},
   "outputs": [
    {
     "name": "stdout",
     "output_type": "stream",
     "text": [
      "49411\n",
      "0.003635274999965077\n",
      "49411\n",
      "8.089900006780226e-05\n"
     ]
    }
   ],
   "source": [
    "from timeit import default_timer as timer\n",
    "from random import randint\n",
    "\n",
    "# Ajouter les codes des deux fonctions à comparer ici\n",
    "def sommeliste(liste) :\n",
    "    if len(liste) == 1 :\n",
    "        return liste[0]\n",
    "    else :\n",
    "        return liste[0] + sommeliste(liste[1:])\n",
    "\n",
    "def somme(liste) :\n",
    "    s = 0\n",
    "    n = len(liste)\n",
    "    for i in range(n) :\n",
    "        s += liste[i]\n",
    "    return s\n",
    "\n",
    "L=[randint(0,100) for i in range(1000)]\n",
    "\n",
    "debut = timer()\n",
    "print(sommeliste(L))\n",
    "fin = timer()\n",
    "print(fin-debut)\n",
    "debut = timer()\n",
    "print(somme(L))\n",
    "fin = timer()\n",
    "print(fin - debut)"
   ]
  },
  {
   "cell_type": "code",
   "execution_count": 3,
   "metadata": {},
   "outputs": [
    {
     "name": "stdout",
     "output_type": "stream",
     "text": [
      "Collecting metakernel\n",
      "  Downloading metakernel-0.30.2-py3-none-any.whl.metadata (7.5 kB)\n",
      "Requirement already satisfied: ipykernel<7,>=5.5.6 in /home/codespace/.local/lib/python3.12/site-packages (from metakernel) (6.29.5)\n",
      "Requirement already satisfied: jedi>=0.18 in /home/codespace/.local/lib/python3.12/site-packages (from metakernel) (0.19.1)\n",
      "Requirement already satisfied: jupyter-core>=4.9.2 in /home/codespace/.local/lib/python3.12/site-packages (from metakernel) (5.7.2)\n",
      "Requirement already satisfied: pexpect>=4.8 in /home/codespace/.local/lib/python3.12/site-packages (from metakernel) (4.9.0)\n",
      "Requirement already satisfied: comm>=0.1.1 in /home/codespace/.local/lib/python3.12/site-packages (from ipykernel<7,>=5.5.6->metakernel) (0.2.2)\n",
      "Requirement already satisfied: debugpy>=1.6.5 in /home/codespace/.local/lib/python3.12/site-packages (from ipykernel<7,>=5.5.6->metakernel) (1.8.5)\n",
      "Requirement already satisfied: ipython>=7.23.1 in /home/codespace/.local/lib/python3.12/site-packages (from ipykernel<7,>=5.5.6->metakernel) (8.27.0)\n",
      "Requirement already satisfied: jupyter-client>=6.1.12 in /home/codespace/.local/lib/python3.12/site-packages (from ipykernel<7,>=5.5.6->metakernel) (8.6.3)\n",
      "Requirement already satisfied: matplotlib-inline>=0.1 in /home/codespace/.local/lib/python3.12/site-packages (from ipykernel<7,>=5.5.6->metakernel) (0.1.7)\n",
      "Requirement already satisfied: nest-asyncio in /home/codespace/.local/lib/python3.12/site-packages (from ipykernel<7,>=5.5.6->metakernel) (1.6.0)\n",
      "Requirement already satisfied: packaging in /home/codespace/.local/lib/python3.12/site-packages (from ipykernel<7,>=5.5.6->metakernel) (24.1)\n",
      "Requirement already satisfied: psutil in /home/codespace/.local/lib/python3.12/site-packages (from ipykernel<7,>=5.5.6->metakernel) (6.0.0)\n",
      "Requirement already satisfied: pyzmq>=24 in /home/codespace/.local/lib/python3.12/site-packages (from ipykernel<7,>=5.5.6->metakernel) (26.2.0)\n",
      "Requirement already satisfied: tornado>=6.1 in /home/codespace/.local/lib/python3.12/site-packages (from ipykernel<7,>=5.5.6->metakernel) (6.4.1)\n",
      "Requirement already satisfied: traitlets>=5.4.0 in /home/codespace/.local/lib/python3.12/site-packages (from ipykernel<7,>=5.5.6->metakernel) (5.14.3)\n",
      "Requirement already satisfied: parso<0.9.0,>=0.8.3 in /home/codespace/.local/lib/python3.12/site-packages (from jedi>=0.18->metakernel) (0.8.4)\n",
      "Requirement already satisfied: platformdirs>=2.5 in /home/codespace/.local/lib/python3.12/site-packages (from jupyter-core>=4.9.2->metakernel) (4.3.6)\n",
      "Requirement already satisfied: ptyprocess>=0.5 in /home/codespace/.local/lib/python3.12/site-packages (from pexpect>=4.8->metakernel) (0.7.0)\n",
      "Requirement already satisfied: decorator in /home/codespace/.local/lib/python3.12/site-packages (from ipython>=7.23.1->ipykernel<7,>=5.5.6->metakernel) (5.1.1)\n",
      "Requirement already satisfied: prompt-toolkit<3.1.0,>=3.0.41 in /home/codespace/.local/lib/python3.12/site-packages (from ipython>=7.23.1->ipykernel<7,>=5.5.6->metakernel) (3.0.47)\n",
      "Requirement already satisfied: pygments>=2.4.0 in /home/codespace/.local/lib/python3.12/site-packages (from ipython>=7.23.1->ipykernel<7,>=5.5.6->metakernel) (2.18.0)\n",
      "Requirement already satisfied: stack-data in /home/codespace/.local/lib/python3.12/site-packages (from ipython>=7.23.1->ipykernel<7,>=5.5.6->metakernel) (0.6.3)\n",
      "Requirement already satisfied: python-dateutil>=2.8.2 in /home/codespace/.local/lib/python3.12/site-packages (from jupyter-client>=6.1.12->ipykernel<7,>=5.5.6->metakernel) (2.9.0.post0)\n",
      "Requirement already satisfied: wcwidth in /home/codespace/.local/lib/python3.12/site-packages (from prompt-toolkit<3.1.0,>=3.0.41->ipython>=7.23.1->ipykernel<7,>=5.5.6->metakernel) (0.2.13)\n",
      "Requirement already satisfied: six>=1.5 in /home/codespace/.local/lib/python3.12/site-packages (from python-dateutil>=2.8.2->jupyter-client>=6.1.12->ipykernel<7,>=5.5.6->metakernel) (1.16.0)\n",
      "Requirement already satisfied: executing>=1.2.0 in /home/codespace/.local/lib/python3.12/site-packages (from stack-data->ipython>=7.23.1->ipykernel<7,>=5.5.6->metakernel) (2.1.0)\n",
      "Requirement already satisfied: asttokens>=2.1.0 in /home/codespace/.local/lib/python3.12/site-packages (from stack-data->ipython>=7.23.1->ipykernel<7,>=5.5.6->metakernel) (2.4.1)\n",
      "Requirement already satisfied: pure-eval in /home/codespace/.local/lib/python3.12/site-packages (from stack-data->ipython>=7.23.1->ipykernel<7,>=5.5.6->metakernel) (0.2.3)\n",
      "Downloading metakernel-0.30.2-py3-none-any.whl (217 kB)\n",
      "Installing collected packages: metakernel\n",
      "Successfully installed metakernel-0.30.2\n",
      "\n",
      "\u001b[1m[\u001b[0m\u001b[34;49mnotice\u001b[0m\u001b[1;39;49m]\u001b[0m\u001b[39;49m A new release of pip is available: \u001b[0m\u001b[31;49m24.2\u001b[0m\u001b[39;49m -> \u001b[0m\u001b[32;49m24.3.1\u001b[0m\n",
      "\u001b[1m[\u001b[0m\u001b[34;49mnotice\u001b[0m\u001b[1;39;49m]\u001b[0m\u001b[39;49m To update, run: \u001b[0m\u001b[32;49mpython -m pip install --upgrade pip\u001b[0m\n",
      "Note: you may need to restart the kernel to use updated packages.\n"
     ]
    }
   ],
   "source": [
    "%pip install metakernel"
   ]
  },
  {
   "cell_type": "code",
   "execution_count": 4,
   "metadata": {},
   "outputs": [],
   "source": [
    "from metakernel import register_ipython_magics\n",
    "register_ipython_magics()"
   ]
  },
  {
   "cell_type": "code",
   "execution_count": 5,
   "metadata": {},
   "outputs": [
    {
     "data": {
      "text/html": [
       "\n",
       "        <iframe\n",
       "            width=\"100%\"\n",
       "            height=\"500\"\n",
       "            src=\"https://pythontutor.com/iframe-embed.html#code=%23%20Script%20%C3%A0%20tester%20%3A%0A%0A%23%20Ajouter%20le%20code%20de%20votre%20fonction%20sommeliste%28liste%29%20ici%0A%0Adef%20sommeliste%28liste%29%20%3A%0A%20%20%20%20if%20len%28liste%29%20%3D%3D%201%20%3A%0A%20%20%20%20%20%20%20%20return%20liste%5B0%5D%0A%20%20%20%20else%20%3A%0A%20%20%20%20%20%20%20%20return%20liste%5B0%5D%20%2B%20sommeliste%28liste%5B1%3A%5D%29%0A%0A%0Aprint%28sommeliste%28%5B2%2C12%2C1%2C8%2C5%2C10%2C20%5D%29%29%0A&origin=opt-frontend.js&cumulative=false&heapPrimitives=false&textReferences=false&py=3&rawInputLstJSON=%5B%5D&curInstr=0&codeDivWidth=350&codeDivHeight=400\"\n",
       "            frameborder=\"0\"\n",
       "            allowfullscreen\n",
       "            \n",
       "        ></iframe>\n",
       "        "
      ],
      "text/plain": [
       "<IPython.lib.display.IFrame at 0x7fdec83d5b80>"
      ]
     },
     "metadata": {},
     "output_type": "display_data"
    }
   ],
   "source": [
    "%%tutor\n",
    "# Script à tester :\n",
    "\n",
    "# Ajouter le code de votre fonction sommeliste(liste) ici\n",
    "\n",
    "def sommeliste(liste) :\n",
    "    if len(liste) == 1 :\n",
    "        return liste[0]\n",
    "    else :\n",
    "        return liste[0] + sommeliste(liste[1:])\n",
    "\n",
    "\n",
    "print(sommeliste([2,12,1,8,5,10,20]))"
   ]
  }
 ],
 "metadata": {
  "kernelspec": {
   "display_name": "Python 3",
   "language": "python",
   "name": "python3"
  },
  "language_info": {
   "codemirror_mode": {
    "name": "ipython",
    "version": 3
   },
   "file_extension": ".py",
   "mimetype": "text/x-python",
   "name": "python",
   "nbconvert_exporter": "python",
   "pygments_lexer": "ipython3",
   "version": "3.12.1"
  }
 },
 "nbformat": 4,
 "nbformat_minor": 2
}
