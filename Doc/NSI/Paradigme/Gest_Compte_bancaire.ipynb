{
 "cells": [
  {
   "cell_type": "code",
   "execution_count": 4,
   "metadata": {},
   "outputs": [],
   "source": [
    "import random\n",
    "\n",
    "class CompteBanc:\n",
    "    def __init__ (self):\n",
    "        self.money = 0 #Initialisation de l'argent\n",
    "        self.name = input(\"entrer votre nom\") # nom du compte\n",
    "        self.mdp = input(\"entrer votre mot de passe\") # mot de passe du compte\n",
    "        self.connexion = False #attribut pour savoir si le compte est connecté\n",
    "        self.mdp_used = \"\" # pour connect_compte\n",
    "        self.choix =\"\" # pour connect_compte\n",
    "\n",
    "    def connect_compte (self) : #pour se connecter au compte\n",
    "        self.mdp_used = input(\"entrez votre mot de passe\")\n",
    "        if self.mdp_used == self.mdp :\n",
    "            self.connexion = True\n",
    "            print(\"Bienvenue sur votre compte\")\n",
    "        else :\n",
    "             print(\"Mot de passe incorrect\")\n",
    "             print(\"Voulez vous réessayez ?\")\n",
    "             self.choix = input(\"oui ou non\")\n",
    "             if self.choix == \"oui\" : # Si oui\n",
    "                 self.connect_compte\n",
    "             else : #si non\n",
    "                 pass\n",
    "    \n",
    "    def _set_money (self,mod) :\n",
    "        if mod == 1 :\n",
    "            self.money += random.randint(-113,113)\n",
    "\n",
    "        if mod == 2 :\n",
    "            self.money += float(input(\"entrez la somme que vous voulez ajoutez\"))\n",
    "\n",
    "        if mod == 3:\n",
    "            self.money -= float(input(\"entrez la somme que vous voulez retirez\"))\n",
    "\n",
    "        if self.money == 0 :\n",
    "            print(\"Vous êtes à découvert\")\n",
    "\n",
    "    def donneMonnaie (self):\n",
    "        return self.money\n",
    "    \n",
    "    def afficher (self) :\n",
    "        print(\"self.name\")\n",
    "        print(\"self.money\")\n",
    "\n",
    "    def _change_name (self) :\n",
    "        self.name = input(\"entrez votre nouveau nom\")\n",
    "\n",
    "    def _pirater (self) :\n",
    "        self._change_name\n",
    "        self.mdp = input(\"entrez le nouveau mot de passe\")"
   ]
  }
 ],
 "metadata": {
  "kernelspec": {
   "display_name": "Python 3",
   "language": "python",
   "name": "python3"
  },
  "language_info": {
   "codemirror_mode": {
    "name": "ipython",
    "version": 3
   },
   "file_extension": ".py",
   "mimetype": "text/x-python",
   "name": "python",
   "nbconvert_exporter": "python",
   "pygments_lexer": "ipython3",
   "version": "3.12.1"
  }
 },
 "nbformat": 4,
 "nbformat_minor": 2
}
