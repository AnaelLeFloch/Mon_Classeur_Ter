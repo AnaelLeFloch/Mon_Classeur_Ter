{
 "cells": [
  {
   "cell_type": "markdown",
   "metadata": {},
   "source": [
    "# Exercices Pratiques Processus\n",
    "\n",
    "## Processus et tourniquet"
   ]
  },
  {
   "cell_type": "code",
   "execution_count": null,
   "metadata": {},
   "outputs": [],
   "source": [
    "def tourniquet(file, quantum):\n",
    "    ordre = []\n",
    "    while not file.est_vide():\n",
    "        processus = file.defile()\n",
    "        ordre.append(processus.pid)\n",
    "        processus.execute(quantum)\n",
    "        if not processus.est_fini():\n",
    "            file.enfile(processus)\n",
    "    return ordre"
   ]
  },
  {
   "cell_type": "markdown",
   "metadata": {},
   "source": [
    "## Etat d'un processus"
   ]
  },
  {
   "cell_type": "code",
   "execution_count": null,
   "metadata": {},
   "outputs": [],
   "source": [
    "class Processus():\n",
    "\n",
    "    def __init__(self, nom, duree, arrivee=0):\n",
    "        self.etat = \"non créé\"\n",
    "        self.nom = nom\n",
    "        self.duree = duree\n",
    "        self.arrivee = arrivee\n",
    "        self.temps_aloue = 0\n",
    "\n",
    "    def elit(self, quantum):\n",
    "        self.temps_alloue = quantum\n",
    "        self.etat = \"élu\"\n",
    "\n",
    "    def execute(self):\n",
    "        self.duree = self.duree - 1\n",
    "        self.temps_alloue = self.temps_alloue - 1\n",
    "        if self.duree == 0:\n",
    "            self.etat = \"terminé\"\n",
    "        elif self.temps_alloue == 0:\n",
    "            self.etat = \"prêt\"\n",
    "\n",
    "    def est_pret(self, horloge):\n",
    "        if self.arrivee == horloge:\n",
    "            self.etat = \"prêt\"\n",
    "        return self.etat == \"prêt\"\n",
    "\n",
    "    def bloque(self):\n",
    "        self.etat = \"bloqué\"\n",
    "\n",
    "    def debloque(self):\n",
    "        self.etat = \"prêt\"\n",
    "\n",
    "\n",
    "    def __repr__(self):\n",
    "        return str({ \"etat\": self.etat, \"nom\":self.nom, \"arrivee\" :self.arrivee, \"duree\":self.duree})"
   ]
  },
  {
   "cell_type": "markdown",
   "metadata": {},
   "source": [
    "## Ordonnancement de processus"
   ]
  },
  {
   "cell_type": "code",
   "execution_count": null,
   "metadata": {},
   "outputs": [],
   "source": [
    "QUANTUM = 2\n",
    "def temps_execution(arrivees, quantum):\n",
    "    tps_execution = {}\n",
    "    temps_horloge = 0\n",
    "    file_attente = File()\n",
    "    terminee = False\n",
    "    processus_courant = None\n",
    "    while not (arrivees.est_vide() and file_attente.est_vide() and processus_courant == None):\n",
    "\n",
    "        if  not arrivees.est_vide() and arrivees.tete().est_pret(temps_horloge):\n",
    "            file_attente.enfile(arrivees.defile())\n",
    "\n",
    "        if processus_courant != None and processus_courant.etat == \"prêt\":\n",
    "                file_attente.enfile(processus_courant)\n",
    "                processus_courant = None\n",
    "\n",
    "        if processus_courant == None and not file_attente.est_vide():\n",
    "            processus_courant = file_attente.defile()\n",
    "            processus_courant.elit(quantum)\n",
    "            debut_quantun = temps_horloge \n",
    "\n",
    "        temps_horloge = temps_horloge + 1\n",
    "        if processus_courant != None:\n",
    "            processus_courant.execute()\n",
    "            if processus_courant.etat != \"élu\":\n",
    "                if processus_courant.nom in tps_execution:\n",
    "                    tps_execution[processus_courant.nom].append((debut_quantun, temps_horloge))\n",
    "                else:\n",
    "                    tps_execution[processus_courant.nom] = [(debut_quantun, temps_horloge)]\n",
    "                if processus_courant.etat == \"terminé\":\n",
    "                    processus_courant = None\n",
    "\n",
    "\n",
    "    return tps_execution"
   ]
  }
 ],
 "metadata": {
  "language_info": {
   "name": "python"
  }
 },
 "nbformat": 4,
 "nbformat_minor": 2
}
