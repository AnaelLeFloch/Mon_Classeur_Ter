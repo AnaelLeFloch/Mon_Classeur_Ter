{
 "cells": [
  {
   "cell_type": "code",
   "execution_count": 5,
   "metadata": {},
   "outputs": [
    {
     "data": {
      "text/plain": [
       "2"
      ]
     },
     "execution_count": 5,
     "metadata": {},
     "output_type": "execute_result"
    }
   ],
   "source": [
    "t = [10.0,5.0]\n",
    "len(t)"
   ]
  },
  {
   "cell_type": "code",
   "execution_count": 6,
   "metadata": {},
   "outputs": [],
   "source": [
    "def moyenne(liste) :\n",
    "    somme = 0.0\n",
    "    \n",
    "    for i in range(len(liste)) :\n",
    "        somme += liste[i] \n",
    "    \n",
    "    moyenne = somme / len(liste)\n",
    "\n",
    "    return moyenne"
   ]
  },
  {
   "cell_type": "code",
   "execution_count": 7,
   "metadata": {},
   "outputs": [
    {
     "data": {
      "text/plain": [
       "7.5"
      ]
     },
     "execution_count": 7,
     "metadata": {},
     "output_type": "execute_result"
    }
   ],
   "source": [
    "test = moyenne(t)\n",
    "test"
   ]
  },
  {
   "cell_type": "code",
   "execution_count": null,
   "metadata": {},
   "outputs": [],
   "source": [
    "import psutil\n",
    "\n",
    "def moyenne(liste) :\n",
    "    somme = 0\n",
    "    \n",
    "    for i in range(len(liste)) :\n",
    "        somme += liste[i] \n",
    "    \n",
    "    moyenne = somme / len(liste)\n",
    "\n",
    "    return moyenne\n",
    "\n",
    "import psutil\n",
    "\n",
    "liste_temp = []\n",
    "\n",
    "tempsinfos=psutil.sensors_temperatures()\n",
    "\n",
    "for i in range(psutil.cpu_count(logical=False)) :\n",
    "    t = tempsinfos[\"coretemp\"][i].current\n",
    "    liste_temp.append(t)\n",
    "    \n",
    "moy_cores = moyenne(liste_temp) \n",
    "\n",
    "moy_cores"
   ]
  }
 ],
 "metadata": {
  "kernelspec": {
   "display_name": "Python 3",
   "language": "python",
   "name": "python3"
  },
  "language_info": {
   "codemirror_mode": {
    "name": "ipython",
    "version": 3
   },
   "file_extension": ".py",
   "mimetype": "text/x-python",
   "name": "python",
   "nbconvert_exporter": "python",
   "pygments_lexer": "ipython3",
   "version": "3.12.1"
  }
 },
 "nbformat": 4,
 "nbformat_minor": 2
}
