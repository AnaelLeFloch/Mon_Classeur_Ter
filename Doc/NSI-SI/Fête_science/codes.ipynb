{
 "cells": [
  {
   "cell_type": "code",
   "execution_count": null,
   "metadata": {
    "vscode": {
     "languageId": "plaintext"
    }
   },
   "outputs": [],
   "source": [
    "#HydroRise \n",
    "\n",
    "#!/usr/bin/env pybricks-micropython\n",
    "from pybricks.hubs import EV3Brick\n",
    "from pybricks.ev3devices import (Motor, TouchSensor, ColorSensor,\n",
    "                                 InfraredSensor, UltrasonicSensor, GyroSensor)\n",
    "from pybricks.parameters import Port, Stop, Direction, Button, Color\n",
    "from pybricks.tools import wait, StopWatch, DataLog\n",
    "from pybricks.robotics import DriveBase\n",
    "from pybricks.media.ev3dev import SoundFile, ImageFile\n",
    "\n",
    "\n",
    "# This program requires LEGO EV3 MicroPython v2.0 or higher.\n",
    "# Click \"Open user guide\" on the EV3 extension tab for more information.\n",
    "\n",
    "\n",
    "# Create your objects here.\n",
    "ev3 = EV3Brick()\n",
    "moteur = Motor(Port.D) # Définit la variable du port utilisé par le moteur\n",
    "scan = ColorSensor(Port.S1) # Définit la variable du port utilisé par le scan\n",
    "couleur = scan.rgb() # détecte la couleur\n",
    "\n",
    "while True :\n",
    "    couleur = scan.rgb() # détecte la couleur\n",
    "    if couleur[2] > 43 : #Si la couleur est bleu...\n",
    "        moteur.run(720) # le moteur tourne \n",
    "\n",
    "    elif couleur[0] > 43 : # si la couleur est rouge...\n",
    "        moteur.run(-720) # le moteur tourne mais dans le sens inverse \n",
    "\n",
    "\n",
    "    else :\n",
    "        moteur.stop() #arrête le moteur\n",
    "    ev3.screen.print(couleur) #affiche le rgb de la couleur\n",
    "    wait(200) #\"veuillez patientez...\"\n",
    "    ev3.screen.clear()"
   ]
  },
  {
   "cell_type": "code",
   "execution_count": null,
   "metadata": {
    "vscode": {
     "languageId": "plaintext"
    }
   },
   "outputs": [],
   "source": [
    "# HydroRise Ultra S\n",
    "\n",
    "#!/usr/bin/env pybricks-micropython\n",
    "from pybricks.hubs import EV3Brick\n",
    "from pybricks.ev3devices import (Motor, TouchSensor, ColorSensor,\n",
    "                                 InfraredSensor, UltrasonicSensor, GyroSensor)\n",
    "from pybricks.parameters import Port, Stop, Direction, Button, Color\n",
    "from pybricks.tools import wait, StopWatch, DataLog\n",
    "from pybricks.robotics import DriveBase\n",
    "from pybricks.media.ev3dev import SoundFile, ImageFile\n",
    "\n",
    "\n",
    "# This program requires LEGO EV3 MicroPython v2.0 or higher.\n",
    "# Click \"Open user guide\" on the EV3 extension tab for more information.\n",
    "\n",
    "\n",
    "# Create your objects here.\n",
    "ev3 = EV3Brick()\n",
    "moteur = Motor(Port.D) # Définit la variable du port utilisé par le moteur \n",
    "scan_us = UltrasonicSensor(Port.S4) # Définit la variable du port utilisé par le scan ultra-son\n",
    "distance = 0\n",
    "\n",
    "\n",
    "while True :\n",
    "    distance = scan_us.distance(False)\n",
    "\n",
    "    if distance <= 70 :\n",
    "        moteur.run(-50)\n",
    "\n",
    "\n",
    "    else :\n",
    "        moteur.stop()\n",
    "\n",
    "    ev3.screen.print(distance)\n",
    "    wait(200) #\"veuillez patientez...\"\n",
    "    ev3.screen.clear()"
   ]
  }
 ],
 "metadata": {
  "language_info": {
   "name": "python"
  }
 },
 "nbformat": 4,
 "nbformat_minor": 2
}
