{
 "cells": [
  {
   "cell_type": "markdown",
   "metadata": {},
   "source": [
    "# DM_EX2_Eval_SQL\n",
    "\n",
    "## 1.\n",
    "\n",
    "a. Mohamed Ali et alonso Fernando\n",
    "\n",
    "b.Harry Kane\n",
    "\n",
    "## 2.\n",
    "\n",
    "a. \n",
    "\n",
    "|nom|prenom|\n",
    "|:-:|:-:|\n",
    "|Dupont|Antoine|\n",
    "|Kane|Harry|\n",
    "\n",
    "b.\n",
    "```sql\n",
    "\n",
    "SELECT tarif FROM Objet ,\n",
    "       WHERE id_objet = 5 ;\n",
    "\n",
    "```\n",
    "\n",
    "c.\n",
    "\n",
    "d.\n",
    "\n",
    "## 3.\n",
    "\n",
    "a.\n",
    "\n",
    "b.\n",
    "\n",
    "c.\n",
    "\n",
    "##  4.\n",
    "\n",
    "a.\n",
    "\n",
    "b."
   ]
  }
 ],
 "metadata": {
  "language_info": {
   "name": "python"
  }
 },
 "nbformat": 4,
 "nbformat_minor": 2
}
