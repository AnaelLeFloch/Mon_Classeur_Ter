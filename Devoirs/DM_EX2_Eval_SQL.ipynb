{
 "cells": [
  {
   "cell_type": "markdown",
   "metadata": {},
   "source": [
    "# DM_EX2_Eval_SQL\n",
    "\n",
    "## 1.\n",
    "\n",
    "a. Mohamed Ali et alonso Fernando\n",
    "\n",
    "b.\n",
    "\n",
    "## 2.\n",
    "\n",
    "a.\n",
    "\n",
    "b.\n",
    "\n",
    "c.\n",
    "\n",
    "d.\n",
    "\n",
    "## 3.\n",
    "\n",
    "a.\n",
    "\n",
    "b.\n",
    "\n",
    "c.\n",
    "\n",
    "##  4.\n",
    "\n",
    "a.\n",
    "\n",
    "b."
   ]
  }
 ],
 "metadata": {
  "language_info": {
   "name": "python"
  }
 },
 "nbformat": 4,
 "nbformat_minor": 2
}
