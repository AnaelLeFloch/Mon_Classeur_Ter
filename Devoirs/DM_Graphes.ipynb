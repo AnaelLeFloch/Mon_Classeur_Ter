{
 "cells": [
  {
   "cell_type": "markdown",
   "metadata": {},
   "source": [
    "# DM Graphes\n",
    "\n",
    "## 1.\n",
    "\n",
    "\n",
    "\n",
    "## 2.\n",
    "\n",
    "A → E → D\n",
    "\n",
    "## 3.\n",
    "\n",
    "```py\n",
    "\n",
    "  A B C D E F G\n",
    "A 0 4 0 0 4 0 0\n",
    "B 4 0 0 0 0 7 5\n",
    "C 0 0 0 4 8 0 0\n",
    "D 0 0 4 0 6 8 0\n",
    "E 4 0 8 6 0 0 0\n",
    "F 0 7 0 8 0 0 3\n",
    "G 0 5 0 0 0 3 0\n",
    "```\n",
    "## 4.\n",
    "\n",
    "## 5.\n",
    "\n",
    "## 6.\n",
    "\n",
    "## 7.\n",
    "\n",
    "## 8.\n",
    "\n",
    "## 9.\n",
    "\n",
    "## 10.\n",
    "\n",
    "## 11.\n",
    "\n",
    "## 12.\n",
    "\n",
    "## 13.\n",
    "\n",
    "## 14.\n",
    "\n",
    "## 15.\n",
    "\n",
    "## 16.\n",
    "\n",
    "## 17."
   ]
  },
  {
   "cell_type": "markdown",
   "metadata": {},
   "source": []
  }
 ],
 "metadata": {
  "language_info": {
   "name": "python"
  }
 },
 "nbformat": 4,
 "nbformat_minor": 2
}
