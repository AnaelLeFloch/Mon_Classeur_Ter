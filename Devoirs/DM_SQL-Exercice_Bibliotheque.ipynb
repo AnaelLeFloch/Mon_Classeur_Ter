{
 "cells": [
  {
   "cell_type": "markdown",
   "metadata": {},
   "source": [
    "# DM_SQL-Exercice_Bibliotheque\n",
    "\n",
    "## 1.\n",
    "\n",
    "- les anomalies présentes dans le schéma sont que les domaine des attributs ne sont pas précisés ainsi que les contraintes\n",
    "\n",
    "## 2.\n",
    "\n",
    "a. Abonne_ID\n",
    "\n",
    "b.   "
   ]
  }
 ],
 "metadata": {
  "language_info": {
   "name": "python"
  }
 },
 "nbformat": 4,
 "nbformat_minor": 2
}
