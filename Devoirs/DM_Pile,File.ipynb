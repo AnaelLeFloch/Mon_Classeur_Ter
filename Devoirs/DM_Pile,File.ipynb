{
 "cells": [
  {
   "cell_type": "markdown",
   "metadata": {},
   "source": [
    "# DM_Pile_File\n",
    "\n",
    "1. d) file \n",
    "\n",
    "2.\n",
    "\n",
    "3.\n",
    "\n",
    "4.\n",
    "\n",
    "a.\n",
    "\n",
    "b.\n",
    "\n",
    "c.\n"
   ]
  }
 ],
 "metadata": {
  "language_info": {
   "name": "python"
  }
 },
 "nbformat": 4,
 "nbformat_minor": 2
}
