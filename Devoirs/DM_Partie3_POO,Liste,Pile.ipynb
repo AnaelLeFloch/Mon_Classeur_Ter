{
 "cells": [
  {
   "cell_type": "markdown",
   "metadata": {},
   "source": [
    "# DM Partie3 POO,Liste,Pile\n",
    "\n",
    "1. self.tete = None\n",
    "\n",
    "2. Oui grâce à la méthode \"insere\"\n",
    "\n",
    "3.\n",
    "\n",
    "pli = PListe()\n",
    "pli.insere(30)\n",
    "pli.insere(20)\n",
    "pli.insere(10)\n",
    "\n",
    "4.\n",
    "\n",
    "\n",
    "\n",
    "5.\n",
    "\n",
    "6.\n",
    "\n",
    "7.\n",
    "\n",
    "8.\n",
    "\n",
    "9.\n",
    "\n",
    "10."
   ]
  }
 ],
 "metadata": {
  "language_info": {
   "name": "python"
  }
 },
 "nbformat": 4,
 "nbformat_minor": 2
}
