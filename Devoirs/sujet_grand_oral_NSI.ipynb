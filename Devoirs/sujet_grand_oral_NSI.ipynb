{
 "cells": [
  {
   "cell_type": "markdown",
   "metadata": {},
   "source": [
    "# Sujet Grand Oral NSI\n",
    "\n",
    "## Algorithme de Tri\n",
    "\n",
    "## Communication coté serveur (SQL/Python → HTML)\n",
    "\n",
    "## Injection SQL"
   ]
  }
 ],
 "metadata": {
  "language_info": {
   "name": "python"
  }
 },
 "nbformat": 4,
 "nbformat_minor": 2
}
