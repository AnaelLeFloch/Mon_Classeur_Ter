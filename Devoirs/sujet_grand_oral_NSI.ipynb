{
 "cells": [
  {
   "cell_type": "markdown",
   "metadata": {},
   "source": [
    "# Sujet Grand Oral NSI\n",
    "\n",
    "## Algorithme de Tri\n",
    "\n",
    "## Communication coté serveur (SQL/Python → HTML)\n",
    "\n",
    "## Injection SQL (Cybersécurité)"
   ]
  },
  {
   "cell_type": "markdown",
   "metadata": {},
   "source": [
    "plusieurs types de méthodes :\n",
    "\n",
    "-Blind based : détournement de la requête sql en cours pour retourner caractère par caractère la donnée qu'on cherche à extraire de la base de données.\n",
    "\n",
    "-Time based : cousine de la méthode Blind based , la différence est qu'elle se base sur le temps de réponse du serveur au lieu de la réponse.\n",
    "\n",
    "-Error Based :permet extraire une donnée de la base sql en détournant un message d'erreur du système\n",
    "\n",
    "-Union based :permet de retourner un ensemble de données d'une base de données en détournnat la requête sql en cours.\n",
    "\n",
    "-Stacked Queries : la plus dangeureuse, permet d´extraire mais aussi de modifier les données de la base sql grâce à une erreur de configuration du système.\n",
    "\n",
    "Pour éviter ça :\n",
    "\n",
    "-vérifier que les informations données dans la requête sont de la forme souhaitée"
   ]
  }
 ],
 "metadata": {
  "language_info": {
   "name": "python"
  }
 },
 "nbformat": 4,
 "nbformat_minor": 2
}
